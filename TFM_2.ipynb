{
 "cells": [
  {
   "cell_type": "markdown",
   "metadata": {},
   "source": [
    "**Índice**\n",
    "\n",
    "- [Librerias](#librerias)\n",
    "- [Carga de datos](#carga)\n",
    "- [Información del dataframe de usuario](#info_user)\n",
    "- [Crosstab TIPOUSUARIO ~ IND_CLIENTE](#crosstab)\n",
    "- [Creacion del sub-dataset](#subset)\n",
    "- [Cambio del tipo de datos](#cambiotipodatos)\n",
    "- [Rellenar valores NaN](#rellenar)\n",
    "- [Proporcion de Clientes vs No Clientes](#proporcion)\n",
    "- [Análisis de la dependencia de las variables categóricas](#dependencia_cat)\n",
    "- [Análisis de la dependencia de las variables continuas](#dependencia_cont)\n",
    "- [Separar los datos entre Train y Test](#traintest)\n",
    "- [knn](#knn)\n",
    "    - [Busqueda de hiperparámetros](#knn_hiper)\n",
    "    - [Crear el modelo Knn](#knn_crear)\n",
    "- [Random Forest](#randomforest)\n",
    "    - [Busqueda de hiperparámetros](#rf_hiper)\n",
    "    - [Crear el modelo de Random Forest](#rf_crear)\n",
    "- [XGBoost](#xgb)\n",
    "    - [Busqueda de hiperparámetros](#xgb_hiper)\n",
    "    - [Crear el modelo de XGBoost](#xgb_crear)\n",
    "- [Análisis de resultados](#resultados)\n",
    "- [Escenario 2. Tipo de usuario = PF](#escenario2)\n",
    "    - [Resultados escenario 2](#resultados2)\n",
    "- [Escenario 3. Sin separar por tipo de usuario](#escenario3)\n",
    "    - [Resultados escenario 3](#resultados3)"
   ]
  },
  {
   "cell_type": "markdown",
   "metadata": {},
   "source": [
    "## Librerias\n",
    "<a name='librerias' />"
   ]
  },
  {
   "cell_type": "code",
   "execution_count": 2,
   "metadata": {},
   "outputs": [],
   "source": [
    "import os\n",
    "import numpy as np\n",
    "import pandas as pd\n",
    "import seaborn as sns\n",
    "import matplotlib.pyplot as plt\n",
    "import xgboost as xgb\n",
    "import statsmodels.api as sm\n",
    "\n",
    "from sklearn.preprocessing import StandardScaler\n",
    "from sklearn.model_selection import train_test_split,cross_val_score\n",
    "from imblearn.over_sampling import SMOTE\n",
    "from sklearn.neighbors import KNeighborsClassifier\n",
    "from sklearn.model_selection import GridSearchCV\n",
    "from sklearn.svm import SVC\n",
    "from sklearn.ensemble import RandomForestClassifier\n",
    "from sklearn.metrics import confusion_matrix, accuracy_score, roc_auc_score,mean_absolute_error,mean_squared_error,recall_score\n",
    "from IPython.display import Markdown as md\n",
    "from scipy.stats import chi2_contingency, chi2, stats\n",
    "from pandas_profiling import ProfileReport\n",
    "from datetime import datetime\n",
    "from statsmodels.formula.api import ols\n",
    "\n",
    "import warnings\n",
    "warnings.filterwarnings(\"ignore\")\n"
   ]
  },
  {
   "cell_type": "markdown",
   "metadata": {},
   "source": [
    "## Carga de datos\n",
    "<a name='carga' />"
   ]
  },
  {
   "cell_type": "code",
   "execution_count": 3,
   "metadata": {},
   "outputs": [],
   "source": [
    "\n",
    "file_user = 'C:\\\\Users\\\\nserr\\\\OneDrive\\\\Documentos\\\\Master Ciencia de Datos\\\\TFM\\\\Dataset\\\\Usuarios.csv'\n",
    "\n",
    "data_user = pd.read_csv(file_user,delimiter=';', encoding = 'ansi')"
   ]
  },
  {
   "cell_type": "code",
   "execution_count": 4,
   "metadata": {},
   "outputs": [],
   "source": [
    "file_consum = 'C:\\\\Users\\\\nserr\\\\OneDrive\\\\Documentos\\\\Master Ciencia de Datos\\\\TFM\\\\Dataset\\\\Consumos.csv'\n",
    "\n",
    "data_consum = pd.read_csv(file_consum,delimiter=';', encoding = 'ansi')"
   ]
  },
  {
   "cell_type": "code",
   "execution_count": null,
   "metadata": {},
   "outputs": [],
   "source": [
    "\n",
    "# profile = ProfileReport(dset)\n",
    "\n",
    "# profile.to_file('dset_post' + str(datetime.now().strftime(\"%Y%m%d%H%M%S\")) + '.html')"
   ]
  },
  {
   "cell_type": "markdown",
   "metadata": {},
   "source": [
    "## Información del dataframe de usuario:<a name='info_user' />"
   ]
  },
  {
   "cell_type": "code",
   "execution_count": 6,
   "metadata": {},
   "outputs": [
    {
     "name": "stdout",
     "output_type": "stream",
     "text": [
      "<class 'pandas.core.frame.DataFrame'>\n",
      "RangeIndex: 368220 entries, 0 to 368219\n",
      "Data columns (total 19 columns):\n",
      " #   Column            Non-Null Count   Dtype  \n",
      "---  ------            --------------   -----  \n",
      " 0   IDUSUARIO         368220 non-null  int64  \n",
      " 1   TIPOUSUARIO       368220 non-null  object \n",
      " 2   FECHA_REGISTRO    368220 non-null  object \n",
      " 3   CANAL_REGISTRO    360684 non-null  float64\n",
      " 4   IND_CLIENTE       368220 non-null  int64  \n",
      " 5   IND_ALTA          368220 non-null  int64  \n",
      " 6   FECHA_ALTA        3720 non-null    object \n",
      " 7   FECHA_CLIENTE     2620 non-null    object \n",
      " 8   TIPOEMAIL         368220 non-null  object \n",
      " 9   BONDAD_EMAIL      368220 non-null  int64  \n",
      " 10  USU_TELF          368154 non-null  object \n",
      " 11  IPCASOS           368220 non-null  int64  \n",
      " 12  IP_Country        346323 non-null  object \n",
      " 13  IP_Region         217065 non-null  object \n",
      " 14  USU_TIPO          84215 non-null   object \n",
      " 15  USU_TAMANIO       84217 non-null   object \n",
      " 16  USU_CIIU          84217 non-null   object \n",
      " 17  USU_ESTADO        84217 non-null   object \n",
      " 18  USU_DEPARTAMENTO  90612 non-null   object \n",
      "dtypes: float64(1), int64(5), object(13)\n",
      "memory usage: 53.4+ MB\n",
      "None\n"
     ]
    }
   ],
   "source": [
    "print(data_user.info())"
   ]
  },
  {
   "cell_type": "markdown",
   "metadata": {},
   "source": [
    "## Crosstab TIPOUSUARIO ~ IND_CLIENTE\n",
    "<a name='crosstab' />"
   ]
  },
  {
   "cell_type": "code",
   "execution_count": 7,
   "metadata": {},
   "outputs": [
    {
     "name": "stdout",
     "output_type": "stream",
     "text": [
      "IND_CLIENTE       0     1\n",
      "TIPOUSUARIO              \n",
      "PF           264974  1180\n",
      "PJ            88622  1305\n",
      "PX            11998   141\n"
     ]
    }
   ],
   "source": [
    "print(pd.crosstab(data_user['TIPOUSUARIO'],data_user['IND_CLIENTE']))"
   ]
  },
  {
   "cell_type": "markdown",
   "metadata": {},
   "source": [
    "# Creacion del sub-dataset\n",
    "<a name='subset' />"
   ]
  },
  {
   "cell_type": "code",
   "execution_count": 8,
   "metadata": {},
   "outputs": [
    {
     "name": "stdout",
     "output_type": "stream",
     "text": [
      "<class 'pandas.core.frame.DataFrame'>\n",
      "Int64Index: 102055 entries, 1 to 368156\n",
      "Data columns (total 10 columns):\n",
      " #   Column          Non-Null Count   Dtype  \n",
      "---  ------          --------------   -----  \n",
      " 0   CANAL_REGISTRO  100471 non-null  float64\n",
      " 1   IND_CLIENTE     102055 non-null  int64  \n",
      " 2   TIPOEMAIL       102055 non-null  object \n",
      " 3   IPCASOS         102055 non-null  int64  \n",
      " 4   BONDAD_EMAIL    102055 non-null  int64  \n",
      " 5   IP_Country      95169 non-null   object \n",
      " 6   USU_TIPO        83191 non-null   object \n",
      " 7   USU_TAMANIO     83193 non-null   object \n",
      " 8   USU_CIIU        83193 non-null   object \n",
      " 9   PROMOPROD       102055 non-null  int64  \n",
      "dtypes: float64(1), int64(4), object(5)\n",
      "memory usage: 8.6+ MB\n",
      "None\n"
     ]
    }
   ],
   "source": [
    "df = data_consum[['IDUSUARIO', 'IDGRUPOPROD']]\n",
    "df['IDGRUPOPROD'] = np.where(df['IDGRUPOPROD'] == 144917, 'promo'\n",
    "        , np.where(df['IDGRUPOPROD'] == 144920, 'promo'\n",
    "                  , 'pago'))\n",
    "\n",
    "df_filter  = pd.DataFrame(df.groupby(by=['IDUSUARIO','IDGRUPOPROD'],as_index=False)['IDUSUARIO'].size())\n",
    "df = df_filter[df_filter['IDGRUPOPROD'] == 'promo']\n",
    "df = df.rename(columns={'size':'PROMOPROD'})\n",
    "\n",
    "# print('Numero de registros de consumo post groupby: {}'.format(df.shape[0]))\n",
    "# print('\\nNumero de registros de data_user: {} \\n'.format(data_user.shape[0]))\n",
    "\n",
    "df_merge = pd.merge(data_user,df, on='IDUSUARIO')\n",
    "\n",
    "df_merge = df_merge[df_merge['TIPOUSUARIO'] != 'PF']\n",
    "\n",
    "dset = df_merge[['CANAL_REGISTRO','IND_CLIENTE','TIPOEMAIL','IPCASOS'\n",
    "                , 'BONDAD_EMAIL','IP_Country','USU_TIPO', 'USU_TAMANIO','USU_CIIU', 'PROMOPROD']]\n",
    "\n",
    "\n",
    "print(dset.info())"
   ]
  },
  {
   "cell_type": "markdown",
   "metadata": {},
   "source": [
    "## Cambio del tipo de datos:\n",
    "<a name='cambiotipodatos' />"
   ]
  },
  {
   "cell_type": "code",
   "execution_count": 9,
   "metadata": {},
   "outputs": [],
   "source": [
    "dset['CANAL_REGISTRO'] = dset['CANAL_REGISTRO'].astype('category')\n",
    "\n",
    "dset['BONDAD_EMAIL'] = dset['BONDAD_EMAIL'].astype('category')\n",
    "\n",
    "dset['IP_Country'] = dset['IP_Country'].astype('category')\n",
    "dset['IP_Country'] = dset['IP_Country'].cat.codes\n",
    "dset['IP_Country'] = dset['IP_Country'].astype('category')\n",
    "\n",
    "dset['TIPOEMAIL'] = dset['TIPOEMAIL'].astype('category')\n",
    "dset['TIPOEMAIL'] = dset['TIPOEMAIL'].cat.codes\n",
    "dset['TIPOEMAIL'] = dset['TIPOEMAIL'].astype('category')\n",
    "\n",
    "dset['USU_TIPO'] = dset['USU_TIPO'].astype('category')\n",
    "dset['USU_TIPO'] = dset['USU_TIPO'].cat.codes\n",
    "dset['USU_TIPO'] = dset['USU_TIPO'].astype('category')\n",
    "\n",
    "dset['USU_TAMANIO'] = dset['USU_TAMANIO'].astype('category')\n",
    "dset['USU_TAMANIO'] = dset['USU_TAMANIO'].cat.codes\n",
    "dset['USU_TAMANIO'] = dset['USU_TAMANIO'].astype('category')\n",
    "\n",
    "dset['USU_CIIU'] = dset['USU_CIIU'].astype('category')\n",
    "dset['USU_CIIU'] = dset['USU_CIIU'].cat.codes\n",
    "dset['USU_CIIU'] = dset['USU_CIIU'].astype('category')"
   ]
  },
  {
   "cell_type": "code",
   "execution_count": 10,
   "metadata": {},
   "outputs": [
    {
     "name": "stdout",
     "output_type": "stream",
     "text": [
      "<class 'pandas.core.frame.DataFrame'>\n",
      "Int64Index: 102055 entries, 1 to 368156\n",
      "Data columns (total 10 columns):\n",
      " #   Column          Non-Null Count   Dtype   \n",
      "---  ------          --------------   -----   \n",
      " 0   CANAL_REGISTRO  100471 non-null  category\n",
      " 1   IND_CLIENTE     102055 non-null  int64   \n",
      " 2   TIPOEMAIL       102055 non-null  category\n",
      " 3   IPCASOS         102055 non-null  int64   \n",
      " 4   BONDAD_EMAIL    102055 non-null  category\n",
      " 5   IP_Country      102055 non-null  category\n",
      " 6   USU_TIPO        102055 non-null  category\n",
      " 7   USU_TAMANIO     102055 non-null  category\n",
      " 8   USU_CIIU        102055 non-null  category\n",
      " 9   PROMOPROD       102055 non-null  int64   \n",
      "dtypes: category(7), int64(3)\n",
      "memory usage: 3.9 MB\n"
     ]
    }
   ],
   "source": [
    "dset.info()"
   ]
  },
  {
   "cell_type": "markdown",
   "metadata": {},
   "source": [
    "## Rellenar valores NaN:\n",
    "<a name='rellenar' />"
   ]
  },
  {
   "cell_type": "code",
   "execution_count": 11,
   "metadata": {},
   "outputs": [
    {
     "data": {
      "text/plain": [
       "CANAL_REGISTRO    False\n",
       "IND_CLIENTE       False\n",
       "TIPOEMAIL         False\n",
       "IPCASOS           False\n",
       "BONDAD_EMAIL      False\n",
       "IP_Country        False\n",
       "USU_TIPO          False\n",
       "USU_TAMANIO       False\n",
       "USU_CIIU          False\n",
       "PROMOPROD         False\n",
       "dtype: bool"
      ]
     },
     "execution_count": 11,
     "metadata": {},
     "output_type": "execute_result"
    }
   ],
   "source": [
    "# Rellenar los missing de las categoricas con su valor mas frecuente\n",
    "\n",
    "dset = dset.apply(lambda x: x.fillna(x.value_counts().index[0]))\n",
    "\n",
    "dset.isna().any()"
   ]
  },
  {
   "cell_type": "markdown",
   "metadata": {},
   "source": [
    "## Proporcion de Clientes vs No Clientes:\n",
    "<a name='proporcion' />"
   ]
  },
  {
   "cell_type": "code",
   "execution_count": 12,
   "metadata": {
    "scrolled": false
   },
   "outputs": [
    {
     "name": "stdout",
     "output_type": "stream",
     "text": [
      "El número de NO clientes es: 100620 lo que supone un  98.59 % del dataset\n",
      "El número de clientes es: 1435 lo que supone un  1.41 % del dataset\n"
     ]
    }
   ],
   "source": [
    "print('El número de NO clientes es: ' + str(dset['IND_CLIENTE'].value_counts()[0]) \n",
    "      + ' lo que supone un ', round(dset['IND_CLIENTE'].value_counts()[0]/len(dset) * 100,2), '% del dataset')\n",
    "print('El número de clientes es: ' + str(dset['IND_CLIENTE'].value_counts()[1]) \n",
    "      + ' lo que supone un ', round(dset['IND_CLIENTE'].value_counts()[1]/len(dset) * 100,2), '% del dataset')\n",
    "\n",
    "# contingency = pd.crosstab(dset['TIPOUSUARIO'],dset['IND_CLIENTE'],normalize='index')\n",
    "# print('\\nTabla de contingencia\\n')\n",
    "# print(contingency)"
   ]
  },
  {
   "cell_type": "code",
   "execution_count": 13,
   "metadata": {},
   "outputs": [],
   "source": [
    "def fn_chisq_pv(var_df, var_cat):\n",
    "    cont_table = pd.crosstab(var_cat,var_df['IND_CLIENTE'] , normalize='index')\n",
    "\n",
    "    stat, p, dof, expected = chi2_contingency(cont_table)\n",
    "    \n",
    "    alpha = 0.05\n",
    "\n",
    "    if p <= alpha:\n",
    "        return('Dependent (reject H0)')\n",
    "    else:\n",
    "        return('Independent (fail to reject H0)')\n",
    "    "
   ]
  },
  {
   "cell_type": "markdown",
   "metadata": {},
   "source": [
    "## Analisis de la dependencia de las variables categóricas:\n",
    "<a name='dependencia_cat' />"
   ]
  },
  {
   "cell_type": "code",
   "execution_count": 14,
   "metadata": {
    "scrolled": true
   },
   "outputs": [
    {
     "name": "stdout",
     "output_type": "stream",
     "text": [
      "La variable CANAL_REGISTRO es Independent (fail to reject H0) con chisq_pv.\n",
      "\n",
      "La variable IND_CLIENTE es Independent (fail to reject H0) con chisq_pv.\n",
      "\n",
      "La variable TIPOEMAIL es Independent (fail to reject H0) con chisq_pv.\n",
      "\n",
      "La variable IPCASOS es Independent (fail to reject H0) con chisq_pv.\n",
      "\n",
      "La variable BONDAD_EMAIL es Independent (fail to reject H0) con chisq_pv.\n",
      "\n",
      "La variable IP_Country es Independent (fail to reject H0) con chisq_pv.\n",
      "\n",
      "La variable USU_TIPO es Independent (fail to reject H0) con chisq_pv.\n",
      "\n",
      "La variable USU_TAMANIO es Independent (fail to reject H0) con chisq_pv.\n",
      "\n",
      "La variable USU_CIIU es Independent (fail to reject H0) con chisq_pv.\n",
      "\n",
      "La variable PROMOPROD es Independent (fail to reject H0) con chisq_pv.\n",
      "\n"
     ]
    }
   ],
   "source": [
    "dataset = dset   #/* DataFrame a analizar */\n",
    "columns_v = dataset.columns.values\n",
    "\n",
    "for col in columns_v:\n",
    "    print('La variable {} es {} con chisq_pv.\\n'.format(col,fn_chisq_pv(dataset,dataset[col])))"
   ]
  },
  {
   "cell_type": "markdown",
   "metadata": {},
   "source": [
    "## Análisis de la dependencia de las vaiables continuas:\n",
    "<a name='dependencia_cont' />"
   ]
  },
  {
   "cell_type": "code",
   "execution_count": 15,
   "metadata": {},
   "outputs": [
    {
     "name": "stdout",
     "output_type": "stream",
     "text": [
      "64.64595497701718 9.011422220238718e-16\n",
      "\n",
      "\n",
      "                   sum_sq        df          F  PR(>F)\n",
      "C(PROMOPROD)   169.770722     153.0  90.816013     0.0\n",
      "Residual      1245.051678  101901.0        NaN     NaN\n"
     ]
    }
   ],
   "source": [
    "# ANOVA para PROMOPROD\n",
    "df_new = dset[['IND_CLIENTE', 'PROMOPROD']]\n",
    "\n",
    "fvalue, pvalue = stats.f_oneway(df_new['IND_CLIENTE'], df_new['PROMOPROD'])\n",
    "print(fvalue, pvalue)\n",
    "print('\\n')\n",
    "\n",
    "import statsmodels.api as sm\n",
    "from statsmodels.formula.api import ols\n",
    "\n",
    "# Ordinary Least Squares (OLS) model\n",
    "model = ols('IND_CLIENTE ~ C(PROMOPROD)', data=df_new).fit()\n",
    "anova_table = sm.stats.anova_lm(model, typ=2)\n",
    "print(anova_table)"
   ]
  },
  {
   "cell_type": "code",
   "execution_count": 16,
   "metadata": {},
   "outputs": [
    {
     "name": "stdout",
     "output_type": "stream",
     "text": [
      "1977.258726688214 0.0\n",
      "\n",
      "\n",
      "                 sum_sq        df         F  PR(>F)\n",
      "C(IPCASOS)    83.719566     261.0  24.52973     0.0\n",
      "Residual    1331.102834  101793.0       NaN     NaN\n"
     ]
    }
   ],
   "source": [
    "# ANOVA para PROMOPROD\n",
    "df_new = dset[['IND_CLIENTE', 'IPCASOS']]\n",
    "\n",
    "fvalue, pvalue = stats.f_oneway(df_new['IND_CLIENTE'], df_new['IPCASOS'])\n",
    "print(fvalue, pvalue)\n",
    "print('\\n')\n",
    "\n",
    "import statsmodels.api as sm\n",
    "from statsmodels.formula.api import ols\n",
    "\n",
    "# Ordinary Least Squares (OLS) model\n",
    "model = ols('IND_CLIENTE ~ C(IPCASOS)', data=df_new).fit()\n",
    "anova_table = sm.stats.anova_lm(model, typ=2)\n",
    "print(anova_table)"
   ]
  },
  {
   "cell_type": "code",
   "execution_count": 17,
   "metadata": {},
   "outputs": [
    {
     "data": {
      "image/png": "[encoded data removed]",
      "text/plain": [
       "<Figure size 360x360 with 2 Axes>"
      ]
     },
     "metadata": {
      "needs_background": "light"
     },
     "output_type": "display_data"
    }
   ],
   "source": [
    "# Sample figsize in inches\n",
    "fig, ax = plt.subplots(figsize=(5,5))         \n",
    "\n",
    "# Imbalanced DataFrame Correlation\n",
    "corr = dset.corr()\n",
    "sns.heatmap(corr, cmap='YlGnBu', annot_kws={'size':30}, ax=ax)\n",
    "ax.set_title(\"Imbalanced Correlation Matrix\", fontsize=14)\n",
    "\n",
    "plt.show()"
   ]
  },
  {
   "cell_type": "code",
   "execution_count": 18,
   "metadata": {},
   "outputs": [
    {
     "data": {
      "text/plain": [
       "array(['CANAL_REGISTRO', 'IND_CLIENTE', 'TIPOEMAIL', 'IPCASOS',\n",
       "       'BONDAD_EMAIL', 'IP_Country', 'USU_TIPO', 'USU_TAMANIO',\n",
       "       'USU_CIIU', 'PROMOPROD'], dtype=object)"
      ]
     },
     "execution_count": 18,
     "metadata": {},
     "output_type": "execute_result"
    }
   ],
   "source": [
    "dset.columns.values"
   ]
  },
  {
   "cell_type": "markdown",
   "metadata": {},
   "source": [
    "## Separar los datos entre Train y Test:\n",
    "<a name='traintest' />"
   ]
  },
  {
   "cell_type": "code",
   "execution_count": 19,
   "metadata": {},
   "outputs": [
    {
     "name": "stdout",
     "output_type": "stream",
     "text": [
      "Disponemos de 81644 datos para entrenamiento y 20411 datos para prueba\n"
     ]
    }
   ],
   "source": [
    "X= dset.iloc[:,[0,2,3,4,5,6,7,8,9]]\n",
    "Y = dset.iloc[:,[1]] \n",
    "\n",
    "X= StandardScaler().fit_transform(X)\n",
    " \n",
    "# Separamos los datos en train y test\n",
    "\n",
    "X_train, X_test, y_train, y_test = train_test_split(X, Y, test_size=0.2)\n",
    "\n",
    "print('Disponemos de {} datos para entrenamiento y {} datos para prueba'.format(X_train.shape[0], X_test.shape[0]))\n",
    "\n",
    "sm = SMOTE(sampling_strategy='minority', random_state=7)\n",
    "\n",
    "oversampled_trainX, oversampled_trainY = sm.fit_sample(X_train,  y_train) #Cambio X por X_train, Y por y_train 20210518\n",
    "oversampled_train = pd.concat([pd.DataFrame(oversampled_trainY), pd.DataFrame(oversampled_trainX)], axis=1)\n"
   ]
  },
  {
   "cell_type": "markdown",
   "metadata": {},
   "source": [
    "# KNN\n",
    "<a name='knn' />"
   ]
  },
  {
   "cell_type": "markdown",
   "metadata": {},
   "source": [
    "### Busqueda de hiperparámetros:\n",
    "<a name='knn_hiper' />"
   ]
  },
  {
   "cell_type": "code",
   "execution_count": 20,
   "metadata": {},
   "outputs": [
    {
     "name": "stdout",
     "output_type": "stream",
     "text": [
      "Los mejores parámetros han sido: {'n_neighbors': 2, 'weights': 'distance'}\n"
     ]
    }
   ],
   "source": [
    "# model_knn = KNeighborsClassifier()\n",
    "            \n",
    "param_grid_knn = {\"n_neighbors\": range(1, 11), \"weights\": [\"uniform\", \"distance\"]}\n",
    "\n",
    "grid_search_knn = GridSearchCV(KNeighborsClassifier(), param_grid=param_grid_knn, cv=4)\n",
    "\n",
    "grid_search_knn.fit(oversampled_trainX, oversampled_trainY)\n",
    "\n",
    "means_knn = grid_search_knn.cv_results_[\"mean_test_score\"]\n",
    "stds_knn = grid_search_knn.cv_results_[\"std_test_score\"]\n",
    "params_knn = grid_search_knn.cv_results_['params']\n",
    "\n",
    "# for mean, std, pms in zip(means_knn, stds_knn, params_knn):\n",
    "#     print(\"Precisión media: {:.2f} +/- {:.2f} con parámetros {}\".format(mean*100, std*100, pms))\n",
    "\n",
    "print(\"Los mejores parámetros han sido: {}\".format(grid_search_knn.best_params_))"
   ]
  },
  {
   "cell_type": "markdown",
   "metadata": {},
   "source": [
    "### Crear modelo Knn\n",
    "<a name='knn_crear' />"
   ]
  },
  {
   "cell_type": "code",
   "execution_count": 21,
   "metadata": {},
   "outputs": [],
   "source": [
    "bp_knn = grid_search_knn.best_params_\n",
    "model_knn = KNeighborsClassifier(n_neighbors=bp_knn['n_neighbors'], weights=bp_knn['weights'])\n",
    "model_knn.fit(oversampled_trainX, oversampled_trainY)\n",
    "\n",
    "preds_knn = model_knn.predict(X_test)"
   ]
  },
  {
   "cell_type": "code",
   "execution_count": null,
   "metadata": {},
   "outputs": [],
   "source": [
    "accuracy_score(y_test,preds_knn)"
   ]
  },
  {
   "cell_type": "code",
   "execution_count": null,
   "metadata": {},
   "outputs": [],
   "source": [
    "recall_score(y_test,preds_knn)"
   ]
  },
  {
   "cell_type": "code",
   "execution_count": null,
   "metadata": {},
   "outputs": [],
   "source": [
    "y_actual = y_test.iloc[:,0]\n",
    "\n",
    "data = {'y_Actual':    y_actual,\n",
    "        'y_Predicted': preds_knn\n",
    "        }\n",
    "\n",
    "df = pd.DataFrame(data, columns=['y_Actual','y_Predicted'])\n",
    "confusion_matrix = pd.crosstab(df['y_Actual'], df['y_Predicted'], rownames=['Actual'], colnames=['Predicted'])\n",
    "confusion_matrix\n",
    "# sns.heatmap(confusion_matrix, annot=True)\n",
    "# plt.show()\n"
   ]
  },
  {
   "cell_type": "markdown",
   "metadata": {},
   "source": [
    "# Random Forest\n",
    "<a name='randomforest' />"
   ]
  },
  {
   "cell_type": "markdown",
   "metadata": {},
   "source": [
    "### Busqueda de hiperparámetros:\n",
    "<a name='rf_hiper' />"
   ]
  },
  {
   "cell_type": "code",
   "execution_count": 22,
   "metadata": {},
   "outputs": [
    {
     "name": "stdout",
     "output_type": "stream",
     "text": [
      "Los mejores parámetros han sido: {'max_depth': 12, 'n_estimators': 200}\n"
     ]
    }
   ],
   "source": [
    "# model_rf = RandomForestClassifier()\n",
    "\n",
    "param_grid_rf = {\"max_depth\": range(6, 13), \"n_estimators\": [10, 50, 100, 200]}\n",
    "\n",
    "grid_search_rf = GridSearchCV(RandomForestClassifier(), param_grid=param_grid_rf, cv=4)\n",
    "grid_search_rf.fit(oversampled_trainX, oversampled_trainY)\n",
    "\n",
    "means_rf = grid_search_rf.cv_results_[\"mean_test_score\"]\n",
    "stds_rf = grid_search_rf.cv_results_[\"std_test_score\"]\n",
    "params_rf = grid_search_rf.cv_results_['params']\n",
    "\n",
    "# for mean, std, pms in zip(means_rf, stds_rf, params_rf):\n",
    "#     print(\"Precisión media: {:.2f} +/- {:.2f} con parámetros {}\".format(mean*100, std*100, pms))\n",
    "\n",
    "print(\"Los mejores parámetros han sido: {}\".format(grid_search_rf.best_params_))"
   ]
  },
  {
   "cell_type": "markdown",
   "metadata": {},
   "source": [
    "### Crear el modelo Random Forest:\n",
    "<a name='rf_crear' />"
   ]
  },
  {
   "cell_type": "code",
   "execution_count": 23,
   "metadata": {},
   "outputs": [],
   "source": [
    "bp_rf = grid_search_rf.best_params_\n",
    "model_rf = RandomForestClassifier(max_depth=bp_rf['max_depth'], n_estimators=bp_rf['n_estimators'])\n",
    "model_rf.fit(oversampled_trainX, oversampled_trainY)\n",
    "\n",
    "preds_rf = model_rf.predict(X_test)\n",
    "\n"
   ]
  },
  {
   "cell_type": "code",
   "execution_count": null,
   "metadata": {},
   "outputs": [],
   "source": [
    "accuracy_score(y_test, preds_rf)"
   ]
  },
  {
   "cell_type": "code",
   "execution_count": null,
   "metadata": {},
   "outputs": [],
   "source": [
    "y_actual = y_test.iloc[:,0]\n",
    "\n",
    "data = {'y_Actual':    y_actual,\n",
    "        'y_Predicted': preds_rf\n",
    "        }\n",
    "\n",
    "df = pd.DataFrame(data, columns=['y_Actual','y_Predicted'])\n",
    "confusion_matrix = pd.crosstab(df['y_Actual'], df['y_Predicted'], rownames=['Actual'], colnames=['Predicted'])\n",
    "confusion_matrix\n",
    "# sns.heatmap(confusion_matrix, annot=True)\n",
    "# plt.show()"
   ]
  },
  {
   "cell_type": "markdown",
   "metadata": {},
   "source": [
    "# XGBoost\n",
    "<a name='xgb' />"
   ]
  },
  {
   "cell_type": "markdown",
   "metadata": {},
   "source": [
    "### Busqueda de hiperparámetros:\n",
    "<a name='xgb_hiper' />"
   ]
  },
  {
   "cell_type": "code",
   "execution_count": 24,
   "metadata": {},
   "outputs": [
    {
     "name": "stdout",
     "output_type": "stream",
     "text": [
      "Los mejores parámetros han sido: {'colsample_bytree': 1.0, 'gamma': 0.5, 'max_depth': 5, 'min_child_weight': 5, 'subsample': 0.8}\n"
     ]
    }
   ],
   "source": [
    "param_grid_xgb = {\n",
    "                    'min_child_weight': [1, 5, 10],\n",
    "                    'gamma': [0.5, 1, 1.5, 2, 5],\n",
    "                    'subsample': [0.6, 0.8, 1.0],\n",
    "                    'colsample_bytree': [0.6, 0.8, 1.0],\n",
    "                    'max_depth': [3, 4, 5]\n",
    "                    }\n",
    "\n",
    "grid_search_xgb = GridSearchCV(xgb.XGBRegressor(), param_grid=param_grid_xgb, cv=4)\n",
    "grid_search_xgb.fit(oversampled_trainX, oversampled_trainY)\n",
    "\n",
    "means_xgb = grid_search_xgb.cv_results_[\"mean_test_score\"]\n",
    "stds_xgb = grid_search_xgb.cv_results_[\"std_test_score\"]\n",
    "params_xgb = grid_search_xgb.cv_results_['params']\n",
    "\n",
    "# for mean, std, pms in zip(means_xgb, stds_xgb, params_xgb):\n",
    "#     print(\"Precisión media: {:.2f} +/- {:.2f} con parámetros {}\".format(mean*100, std*100, pms))\n",
    "\n",
    "print(\"Los mejores parámetros han sido: {}\".format(grid_search_xgb.best_params_))"
   ]
  },
  {
   "cell_type": "markdown",
   "metadata": {},
   "source": [
    "### Crear el modelo XGBoost:\n",
    "<a name='xgb_crear' />"
   ]
  },
  {
   "cell_type": "code",
   "execution_count": 25,
   "metadata": {},
   "outputs": [],
   "source": [
    "bp_xgb = grid_search_xgb.best_params_\n",
    "model_xgb = xgb.XGBRegressor(\n",
    "                    min_child_weight= bp_xgb['min_child_weight'],\n",
    "                    gamma= bp_xgb['gamma'],\n",
    "                    subsample= bp_xgb['subsample'],\n",
    "                    colsample_bytree=  bp_xgb['colsample_bytree'],\n",
    "                    max_depth= bp_xgb['max_depth'])\n",
    "\n",
    "model_xgb.fit(oversampled_trainX, oversampled_trainY)\n",
    "\n",
    "preds_xgb = model_xgb.predict(X_test)\n",
    "\n",
    "# accuracy_xgb = np.true_divide(np.sum(preds_xgb == y_test), preds_xgb.shape[0])*100\n",
    "# xgb_matrix = confusion_matrix(y_test, preds_xgb)\n",
    "\n",
    "# print(accuracy_xgb)\n",
    "# print(xgb_matrix)"
   ]
  },
  {
   "cell_type": "code",
   "execution_count": null,
   "metadata": {},
   "outputs": [],
   "source": [
    "accuracy_score(y_test, preds_xgb.round())"
   ]
  },
  {
   "cell_type": "code",
   "execution_count": null,
   "metadata": {},
   "outputs": [],
   "source": [
    "y_actual = y_test.iloc[:,0]\n",
    "\n",
    "data = {'y_Actual':    y_actual,\n",
    "        'y_Predicted': preds_xgb.round()\n",
    "        }\n",
    "\n",
    "df = pd.DataFrame(data, columns=['y_Actual','y_Predicted'])\n",
    "confusion_matrix = pd.crosstab(df['y_Actual'], df['y_Predicted'], rownames=['Actual'], colnames=['Predicted'])\n",
    "confusion_matrix"
   ]
  },
  {
   "cell_type": "markdown",
   "metadata": {},
   "source": [
    "## Análisis de resultados:\n",
    "<a name='resultados' />"
   ]
  },
  {
   "cell_type": "code",
   "execution_count": 26,
   "metadata": {},
   "outputs": [
    {
     "name": "stdout",
     "output_type": "stream",
     "text": [
      "          Model     Score       MAE       MSE    Recall\n",
      "0           Knn  0.960218  0.039782  0.039782  0.244361\n",
      "1  RandomForest  0.947185  0.052815  0.052815  0.680451\n",
      "2           XGB -0.346578  0.063544  0.017320  0.327068\n"
     ]
    }
   ],
   "source": [
    "mae_knn = mean_absolute_error(y_test, preds_knn)\n",
    "mae_rf = mean_absolute_error(y_test, preds_rf)\n",
    "mae_xgb = mean_absolute_error(y_test, preds_xgb)\n",
    "                              \n",
    "mse_knn = mean_squared_error(y_test, preds_knn)  \n",
    "mse_rf = mean_squared_error(y_test, preds_rf)\n",
    "mse_xgb = mean_squared_error(y_test, preds_xgb)\n",
    "\n",
    "recall_knn = recall_score(y_test,preds_knn)\n",
    "recall_rf = recall_score(y_test,preds_rf)\n",
    "recall_xgb = recall_score(y_test,preds_xgb.round())\n",
    "\n",
    "compare_models = pd.DataFrame(\n",
    "    {  'Model' : ['Knn', 'RandomForest','XGB'],\n",
    "       'Score' : [model_knn.score(X_test,y_test), model_rf.score(X_test,y_test),model_xgb.score(X_test,y_test)],\n",
    "        'MAE'  : [mae_knn,mae_rf,mae_xgb],\n",
    "        'MSE'  : [mse_knn,mse_rf,mse_xgb],\n",
    "        'Recall': [recall_knn,recall_rf,recall_xgb]\n",
    "    })\n",
    "  \n",
    "print(compare_models)"
   ]
  },
  {
   "cell_type": "code",
   "execution_count": 51,
   "metadata": {},
   "outputs": [
    {
     "name": "stdout",
     "output_type": "stream",
     "text": [
      "0        0.942482\n",
      "1        0.942482\n",
      "2        0.942139\n",
      "3        0.942482\n",
      "4        0.942335\n",
      "5        0.942482\n",
      "6        0.942482\n",
      "7        0.941992\n",
      "8        0.95282\n"
     ]
    }
   ],
   "source": [
    "for i in range(X_test.shape[1]):\n",
    "    X = X_test[:, i].reshape(-1, 1)\n",
    "    scores = cross_val_score(model_rf, X, preds_rf, cv=3)\n",
    "    print(f'{i}        {scores.mean():g}')"
   ]
  },
  {
   "cell_type": "markdown",
   "metadata": {},
   "source": [
    "# Escenario 2 <a name='escenario2' />\n",
    "\n",
    "## TIPOUSUARIO = 'PF'"
   ]
  },
  {
   "cell_type": "code",
   "execution_count": 41,
   "metadata": {},
   "outputs": [
    {
     "name": "stdout",
     "output_type": "stream",
     "text": [
      "<class 'pandas.core.frame.DataFrame'>\n",
      "Int64Index: 266142 entries, 0 to 368196\n",
      "Data columns (total 7 columns):\n",
      " #   Column          Non-Null Count   Dtype   \n",
      "---  ------          --------------   -----   \n",
      " 0   CANAL_REGISTRO  266142 non-null  category\n",
      " 1   IND_CLIENTE     266142 non-null  int64   \n",
      " 2   TIPOEMAIL       266142 non-null  category\n",
      " 3   IPCASOS         266142 non-null  int64   \n",
      " 4   BONDAD_EMAIL    266142 non-null  int64   \n",
      " 5   IP_Country      266142 non-null  category\n",
      " 6   PROMOPROD       266142 non-null  int64   \n",
      "dtypes: category(3), int64(4)\n",
      "memory usage: 10.9 MB\n"
     ]
    }
   ],
   "source": [
    "df2 = data_consum[['IDUSUARIO', 'IDGRUPOPROD']]\n",
    "df2['IDGRUPOPROD'] = np.where(df2['IDGRUPOPROD'] == 144917, 'promo'\n",
    "        , np.where(df2['IDGRUPOPROD'] == 144920, 'promo'\n",
    "                  , 'pago'))\n",
    "\n",
    "df_filter2  = pd.DataFrame(df2.groupby(by=['IDUSUARIO','IDGRUPOPROD'],as_index=False)['IDUSUARIO'].size())\n",
    "df2 = df_filter2[df_filter2['IDGRUPOPROD'] == 'promo']\n",
    "df2 = df2.rename(columns={'size':'PROMOPROD'})\n",
    "\n",
    "df_merge2 = pd.merge(data_user,df2, on='IDUSUARIO')\n",
    "\n",
    "df_merge2 = df_merge2[df_merge2['TIPOUSUARIO'] == 'PF'] #Cambio esencial en este escenario\n",
    "\n",
    "dset2 = df_merge2[['CANAL_REGISTRO','IND_CLIENTE','TIPOEMAIL','IPCASOS'\n",
    "                , 'BONDAD_EMAIL','IP_Country', 'PROMOPROD']]\n",
    "\n",
    "dset2['CANAL_REGISTRO'] = dset2['CANAL_REGISTRO'].astype('category')\n",
    "\n",
    "# dset2['BONDAD_EMAIL'] = dset2['BONDAD_EMAIL'].astype('category')\n",
    "\n",
    "dset2['IP_Country'] = dset2['IP_Country'].astype('category')\n",
    "dset2['IP_Country'] = dset2['IP_Country'].cat.codes\n",
    "dset2['IP_Country'] = dset2['IP_Country'].astype('category')\n",
    "\n",
    "dset2['TIPOEMAIL'] = dset2['TIPOEMAIL'].astype('category')\n",
    "dset2['TIPOEMAIL'] = dset2['TIPOEMAIL'].cat.codes\n",
    "dset2['TIPOEMAIL'] = dset2['TIPOEMAIL'].astype('category')\n",
    "\n",
    "\n",
    "dset2 = dset2.apply(lambda x: x.fillna(x.value_counts().index[0]))\n",
    "\n",
    "dset2.info()\n",
    "\n",
    "\n"
   ]
  },
  {
   "cell_type": "code",
   "execution_count": 47,
   "metadata": {},
   "outputs": [],
   "source": [
    "X2 = dset2.iloc[:,[0,2,3,4,5,6]]\n",
    "Y2 = dset2.iloc[:,[1]] \n",
    "\n",
    "X2 = StandardScaler().fit_transform(X2)\n",
    " \n",
    "# Separamos los datos en train y test\n",
    "\n",
    "X_train2, X_test2, y_train2, y_test2 = train_test_split(X2, Y2, test_size=0.2)\n",
    "\n",
    "# print('Disponemos de {} datos para entrenamiento y {} datos para prueba'.format(X_train.shape[0], X_test.shape[0]))\n",
    "\n",
    "sm2 = SMOTE(sampling_strategy='minority', random_state=7)\n",
    "\n",
    "oversampled_trainX2, oversampled_trainY2 = sm2.fit_sample(X_train2,  y_train2)\n",
    "oversampled_train2 = pd.concat([pd.DataFrame(oversampled_trainY2), pd.DataFrame(oversampled_trainX2)], axis=1)\n",
    "\n",
    "param_grid_knn2 = {\"n_neighbors\": range(1, 11), \"weights\": [\"uniform\", \"distance\"]}\n",
    "\n",
    "grid_search_knn2 = GridSearchCV(KNeighborsClassifier(), param_grid=param_grid_knn2, cv=4)\n",
    "\n",
    "grid_search_knn2.fit(oversampled_trainX2, oversampled_trainY2)\n",
    "\n",
    "bp_knn2 = grid_search_knn2.best_params_\n",
    "model_knn2 = KNeighborsClassifier(n_neighbors=bp_knn2['n_neighbors'], weights=bp_knn2['weights'])\n",
    "model_knn2.fit(oversampled_trainX2, oversampled_trainY2)\n",
    "\n",
    "preds_knn2 = model_knn2.predict(X_test2)\n",
    "\n",
    "param_grid_rf2 = {\"max_depth\": range(6, 13), \"n_estimators\": [10, 50, 100, 200]}\n",
    "\n",
    "grid_search_rf2 = GridSearchCV(RandomForestClassifier(), param_grid=param_grid_rf2, cv=4)\n",
    "grid_search_rf2.fit(oversampled_trainX2, oversampled_trainY2)\n",
    "\n",
    "bp_rf2 = grid_search_rf2.best_params_\n",
    "model_rf2 = RandomForestClassifier(max_depth=bp_rf2['max_depth'], n_estimators=bp_rf2['n_estimators'])\n",
    "model_rf2.fit(oversampled_trainX2, oversampled_trainY2)\n",
    "\n",
    "preds_rf2 = model_rf2.predict(X_test2)\n",
    "\n",
    "param_grid_xgb2 = {\n",
    "                    'min_child_weight': [1, 5, 10],\n",
    "                    'gamma': [0.5, 1, 1.5, 2, 5],\n",
    "                    'subsample': [0.6, 0.8, 1.0],\n",
    "                    'colsample_bytree': [0.6, 0.8, 1.0],\n",
    "                    'max_depth': [3, 4, 5]\n",
    "                    }\n",
    "\n",
    "grid_search_xgb2 = GridSearchCV(xgb.XGBRegressor(), param_grid=param_grid_xgb2, cv=4)\n",
    "grid_search_xgb2.fit(oversampled_trainX2, oversampled_trainY2)\n",
    "\n",
    "bp_xgb2 = grid_search_xgb2.best_params_\n",
    "model_xgb2 = xgb.XGBRegressor(\n",
    "                    min_child_weight= bp_xgb2['min_child_weight'],\n",
    "                    gamma= bp_xgb2['gamma'],\n",
    "                    subsample= bp_xgb2['subsample'],\n",
    "                    colsample_bytree=  bp_xgb2['colsample_bytree'],\n",
    "                    max_depth= bp_xgb2['max_depth'])\n",
    "\n",
    "model_xgb2.fit(oversampled_trainX2, oversampled_trainY2)\n",
    "\n",
    "preds_xgb2 = model_xgb2.predict(X_test2)"
   ]
  },
  {
   "cell_type": "markdown",
   "metadata": {},
   "source": [
    "## Resultados escenario 2 <a name='resultados2' />"
   ]
  },
  {
   "cell_type": "code",
   "execution_count": 62,
   "metadata": {},
   "outputs": [
    {
     "name": "stdout",
     "output_type": "stream",
     "text": [
      "          Model      Score       MAE       MSE    Recall\n",
      "0           Knn   0.956358  0.043642  0.043642  0.223256\n",
      "1  RandomForest   0.904939  0.095061  0.095061  0.655814\n",
      "2           XGB -10.197724  0.129181  0.045047  0.460465\n"
     ]
    }
   ],
   "source": [
    "mae_knn2 = mean_absolute_error(y_test2, preds_knn2)\n",
    "mae_rf2 = mean_absolute_error(y_test2, preds_rf2)\n",
    "mae_xgb2 = mean_absolute_error(y_test2, preds_xgb2)\n",
    "                              \n",
    "mse_knn2 = mean_squared_error(y_test2, preds_knn2)  \n",
    "mse_rf2 = mean_squared_error(y_test2, preds_rf2)\n",
    "mse_xgb2 = mean_squared_error(y_test2, preds_xgb2)\n",
    "\n",
    "recall_knn2 = recall_score(y_test2,preds_knn2)\n",
    "recall_rf2 = recall_score(y_test2,preds_rf2)\n",
    "recall_xgb2 = recall_score(y_test2,preds_xgb2.round())\n",
    "# recall_xgb2 = 0\n",
    "\n",
    "\n",
    "compare_models2 = pd.DataFrame(\n",
    "    {  'Model' : ['Knn', 'RandomForest','XGB'],\n",
    "       'Score' : [model_knn2.score(X_test2,y_test2), model_rf2.score(X_test2,y_test2),model_xgb2.score(X_test2,y_test2)],\n",
    "        'MAE'  : [mae_knn2,mae_rf2,mae_xgb2],\n",
    "        'MSE'  : [mse_knn2,mse_rf2,mse_xgb2],\n",
    "        'Recall': [recall_knn2,recall_rf2,recall_xgb2]\n",
    "    })\n",
    "  \n",
    "print(compare_models2)"
   ]
  },
  {
   "cell_type": "code",
   "execution_count": 50,
   "metadata": {},
   "outputs": [
    {
     "name": "stdout",
     "output_type": "stream",
     "text": [
      "0        0.958594\n",
      "1        0.958594\n",
      "2        0.932612\n",
      "3        0.744387\n",
      "4        0.9585\n",
      "5        0.883447\n"
     ]
    }
   ],
   "source": [
    "for i in range(X_test2.shape[1]):\n",
    "    X = X_test2[:, i].reshape(-1, 1)\n",
    "    scores = cross_val_score(model_knn2, X, preds_knn2, cv=3)\n",
    "    print(f'{i}        {scores.mean():g}')"
   ]
  },
  {
   "cell_type": "markdown",
   "metadata": {},
   "source": [
    "# Escenario 3 <a name='escenario3' />\n",
    "\n",
    "## Sin separar por tipo de usuario"
   ]
  },
  {
   "cell_type": "code",
   "execution_count": 52,
   "metadata": {},
   "outputs": [
    {
     "name": "stdout",
     "output_type": "stream",
     "text": [
      "<class 'pandas.core.frame.DataFrame'>\n",
      "Int64Index: 368197 entries, 0 to 368196\n",
      "Data columns (total 8 columns):\n",
      " #   Column          Non-Null Count   Dtype   \n",
      "---  ------          --------------   -----   \n",
      " 0   TIPOUSUARIO     368197 non-null  category\n",
      " 1   CANAL_REGISTRO  368197 non-null  category\n",
      " 2   IND_CLIENTE     368197 non-null  int64   \n",
      " 3   TIPOEMAIL       368197 non-null  category\n",
      " 4   IPCASOS         368197 non-null  int64   \n",
      " 5   BONDAD_EMAIL    368197 non-null  int64   \n",
      " 6   IP_Country      368197 non-null  category\n",
      " 7   PROMOPROD       368197 non-null  int64   \n",
      "dtypes: category(4), int64(4)\n",
      "memory usage: 15.5 MB\n"
     ]
    }
   ],
   "source": [
    "df3 = data_consum[['IDUSUARIO', 'IDGRUPOPROD']]\n",
    "df3['IDGRUPOPROD'] = np.where(df3['IDGRUPOPROD'] == 144917, 'promo'\n",
    "        , np.where(df3['IDGRUPOPROD'] == 144920, 'promo'\n",
    "                  , 'pago'))\n",
    "\n",
    "df_filter3  = pd.DataFrame(df3.groupby(by=['IDUSUARIO','IDGRUPOPROD'],as_index=False)['IDUSUARIO'].size())\n",
    "df3 = df_filter2[df_filter3['IDGRUPOPROD'] == 'promo']\n",
    "df3 = df3.rename(columns={'size':'PROMOPROD'})\n",
    "\n",
    "df_merge3 = pd.merge(data_user,df3, on='IDUSUARIO')\n",
    "\n",
    "# df_merge3 = df_merge3[df_merge3['TIPOUSUARIO'] == 'PF'] #Cambio esencial en este escenario\n",
    "\n",
    "dset3 = df_merge3[['TIPOUSUARIO','CANAL_REGISTRO','IND_CLIENTE','TIPOEMAIL','IPCASOS'\n",
    "                , 'BONDAD_EMAIL','IP_Country', 'PROMOPROD']]\n",
    "\n",
    "dset3['CANAL_REGISTRO'] = dset3['CANAL_REGISTRO'].astype('category')\n",
    "\n",
    "# dset2['BONDAD_EMAIL'] = dset2['BONDAD_EMAIL'].astype('category')\n",
    "dset3['TIPOUSUARIO'] = dset3['TIPOUSUARIO'].astype('category')\n",
    "dset3['TIPOUSUARIO'] = dset3['TIPOUSUARIO'].cat.codes\n",
    "dset3['TIPOUSUARIO'] = dset3['TIPOUSUARIO'].astype('category')\n",
    "\n",
    "dset3['IP_Country'] = dset3['IP_Country'].astype('category')\n",
    "dset3['IP_Country'] = dset3['IP_Country'].cat.codes\n",
    "dset3['IP_Country'] = dset3['IP_Country'].astype('category')\n",
    "\n",
    "dset3['TIPOEMAIL'] = dset3['TIPOEMAIL'].astype('category')\n",
    "dset3['TIPOEMAIL'] = dset3['TIPOEMAIL'].cat.codes\n",
    "dset3['TIPOEMAIL'] = dset3['TIPOEMAIL'].astype('category')\n",
    "\n",
    "\n",
    "dset3 = dset3.apply(lambda x: x.fillna(x.value_counts().index[0]))\n",
    "\n",
    "dset3.info()\n",
    "\n",
    "\n"
   ]
  },
  {
   "cell_type": "code",
   "execution_count": 53,
   "metadata": {},
   "outputs": [],
   "source": [
    "X3 = dset3.iloc[:,[0,1,3,4,5,6,7]]\n",
    "Y3 = dset3.iloc[:,[2]] \n",
    "\n",
    "X3 = StandardScaler().fit_transform(X3)\n",
    " \n",
    "# Separamos los datos en train y test\n",
    "\n",
    "X_train3, X_test3, y_train3, y_test3 = train_test_split(X3, Y3, test_size=0.2)\n",
    "\n",
    "# print('Disponemos de {} datos para entrenamiento y {} datos para prueba'.format(X_train.shape[0], X_test.shape[0]))\n",
    "\n",
    "sm3 = SMOTE(sampling_strategy='minority', random_state=7)\n",
    "\n",
    "oversampled_trainX3, oversampled_trainY3 = sm3.fit_sample(X_train3,  y_train3)\n",
    "oversampled_train3 = pd.concat([pd.DataFrame(oversampled_trainY3), pd.DataFrame(oversampled_trainX3)], axis=1)\n",
    "\n",
    "param_grid_knn3 = {\"n_neighbors\": range(1, 11), \"weights\": [\"uniform\", \"distance\"]}\n",
    "\n",
    "grid_search_knn3 = GridSearchCV(KNeighborsClassifier(), param_grid=param_grid_knn3, cv=4)\n",
    "\n",
    "grid_search_knn3.fit(oversampled_trainX3, oversampled_trainY3)\n",
    "\n",
    "bp_knn3 = grid_search_knn3.best_params_\n",
    "model_knn3 = KNeighborsClassifier(n_neighbors=bp_knn3['n_neighbors'], weights=bp_knn3['weights'])\n",
    "model_knn3.fit(oversampled_trainX3, oversampled_trainY3)\n",
    "\n",
    "preds_knn3 = model_knn3.predict(X_test3)\n",
    "\n",
    "param_grid_rf3 = {\"max_depth\": range(6, 13), \"n_estimators\": [10, 50, 100, 200]}\n",
    "\n",
    "grid_search_rf3 = GridSearchCV(RandomForestClassifier(), param_grid=param_grid_rf3, cv=4)\n",
    "grid_search_rf3.fit(oversampled_trainX3, oversampled_trainY3)\n",
    "\n",
    "bp_rf3 = grid_search_rf3.best_params_\n",
    "model_rf3 = RandomForestClassifier(max_depth=bp_rf3['max_depth'], n_estimators=bp_rf3['n_estimators'])\n",
    "model_rf3.fit(oversampled_trainX3, oversampled_trainY3)\n",
    "\n",
    "preds_rf3 = model_rf3.predict(X_test3)\n",
    "\n",
    "param_grid_xgb3 = {\n",
    "                    'min_child_weight': [1, 5, 10],\n",
    "                    'gamma': [0.5, 1, 1.5, 2, 5],\n",
    "                    'subsample': [0.6, 0.8, 1.0],\n",
    "                    'colsample_bytree': [0.6, 0.8, 1.0],\n",
    "                    'max_depth': [3, 4, 5]\n",
    "                    }\n",
    "\n",
    "grid_search_xgb3 = GridSearchCV(xgb.XGBRegressor(), param_grid=param_grid_xgb3, cv=4)\n",
    "grid_search_xgb3.fit(oversampled_trainX3, oversampled_trainY3)\n",
    "\n",
    "bp_xgb3 = grid_search_xgb3.best_params_\n",
    "model_xgb3 = xgb.XGBRegressor(\n",
    "                    min_child_weight= bp_xgb3['min_child_weight'],\n",
    "                    gamma= bp_xgb3['gamma'],\n",
    "                    subsample= bp_xgb3['subsample'],\n",
    "                    colsample_bytree=  bp_xgb3['colsample_bytree'],\n",
    "                    max_depth= bp_xgb3['max_depth'])\n",
    "\n",
    "model_xgb3.fit(oversampled_trainX3, oversampled_trainY3)\n",
    "\n",
    "preds_xgb3 = model_xgb3.predict(X_test3)"
   ]
  },
  {
   "cell_type": "markdown",
   "metadata": {},
   "source": [
    "## Resultados escenario 3 <a name='resultados3' />"
   ]
  },
  {
   "cell_type": "code",
   "execution_count": 68,
   "metadata": {},
   "outputs": [
    {
     "name": "stdout",
     "output_type": "stream",
     "text": [
      "          Model     Score       MAE       MSE    Recall\n",
      "0           Knn  0.971727  0.028273  0.028273  0.309434\n",
      "1  RandomForest  0.904848  0.095152  0.095152  0.766038\n",
      "2           XGB -4.992069  0.125035  0.042816  0.000000\n"
     ]
    }
   ],
   "source": [
    "mae_knn3 = mean_absolute_error(y_test3, preds_knn3)\n",
    "mae_rf3 = mean_absolute_error(y_test3, preds_rf3)\n",
    "mae_xgb3 = mean_absolute_error(y_test3, preds_xgb3)\n",
    "                              \n",
    "mse_knn3 = mean_squared_error(y_test3, preds_knn3)  \n",
    "mse_rf3 = mean_squared_error(y_test3, preds_rf3)\n",
    "mse_xgb3 = mean_squared_error(y_test3, preds_xgb3)\n",
    "\n",
    "recall_knn3 = recall_score(y_test3,preds_knn3)\n",
    "recall_rf3 = recall_score(y_test3,preds_rf3)\n",
    "# recall_xgb3 = recall_score(y_test3,preds_xgb3.round())\n",
    "recall_xgb3 = 0\n",
    "\n",
    "\n",
    "compare_models3 = pd.DataFrame(\n",
    "    {  'Model' : ['Knn', 'RandomForest','XGB'],\n",
    "       'Score' : [model_knn3.score(X_test3,y_test3), model_rf3.score(X_test3,y_test3),model_xgb3.score(X_test3,y_test3)],\n",
    "        'MAE'  : [mae_knn3,mae_rf3,mae_xgb3],\n",
    "        'MSE'  : [mse_knn3,mse_rf3,mse_xgb3],\n",
    "        'Recall': [recall_knn3,recall_rf3,recall_xgb3]\n",
    "    })\n",
    "  \n",
    "print(compare_models3)"
   ]
  }
 ],
 "metadata": {
  "kernelspec": {
   "display_name": "Python 3",
   "language": "python",
   "name": "python3"
  },
  "language_info": {
   "codemirror_mode": {
    "name": "ipython",
    "version": 3
   },
   "file_extension": ".py",
   "mimetype": "text/x-python",
   "name": "python",
   "nbconvert_exporter": "python",
   "pygments_lexer": "ipython3",
   "version": "3.8.5"
  }
 },
 "nbformat": 4,
 "nbformat_minor": 4
}
