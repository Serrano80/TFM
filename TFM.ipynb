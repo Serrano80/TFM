{
 "cells": [
  {
   "cell_type": "markdown",
   "metadata": {},
   "source": [
    "**Índice**\n",
    "\n",
    "- [Librerias](#librerias)\n",
    "- [Carga de datos](#carga)\n",
    "- [Información del dataframe de usuario](#info_user)\n",
    "- [Información del dataframe de consumo](#info_consumo)\n",
    "- [Crosstab TIPOUSUARIO ~ IND_CLIENTE](#crosstab)\n",
    "- [Creacion del sub-dataset](#subset)\n",
    "- [Cambio del tipo de datos](#cambiotipodatos)\n",
    "- [Rellenar valores NaN](#rellenar)\n",
    "- [Proporcion de Clientes vs No Clientes](#proporcion)\n",
    "- [Análisis de la dependencia de las variables categóricas](#dependencia_cat)\n",
    "- [Análisis de la dependencia de las variables continuas](#dependencia_cont)\n",
    "- [Separar los datos entre Train y Test](#traintest)\n",
    "- [knn](#knn)\n",
    "    - [Busqueda de hiperparámetros](#knn_hiper)\n",
    "    - [Crear el modelo Knn](#knn_crear)\n",
    "- [Random Forest](#randomforest)\n",
    "    - [Busqueda de hiperparámetros](#rf_hiper)\n",
    "    - [Crear el modelo de Random Forest](#rf_crear)\n",
    "- [XGBoost](#xgb)\n",
    "    - [Busqueda de hiperparámetros](#xgb_hiper)\n",
    "    - [Crear el modelo de XGBoost](#xgb_crear)\n",
    "- [Análisis de resultados](#resultados)\n",
    "- [Escenario 2. Tipo de usuario = PF](#escenario2)\n",
    "    - [Resultados escenario 2](#resultados2)\n",
    "- [Escenario 3. Sin separar por tipo de usuario](#escenario3)\n",
    "    - [Resultados escenario 3](#resultados3)\n",
    "- [Escenario 4](#escenario4)\n",
    "- [Escenario 5](#escenario5)\n",
    "- [Escenario 6](#escenario6)\n",
    "- [Confusion Matrix - Escenario 1](#cm_1)\n",
    "- [Confusion Matrix - Escenario 2](#cm_2)\n",
    "- [Confusion Matrix - Escenario 3](#cm_3)\n",
    "- [Confusion Matrix - Escenario 4](#cm_4)\n",
    "- [Confusion Matrix - Escenario 5](#cm_5)\n",
    "- [Confusion Matrix - Escenario 6](#cm_6)"
   ]
  },
  {
   "cell_type": "markdown",
   "metadata": {},
   "source": [
    "## Librerias\n",
    "<a name='librerias' />"
   ]
  },
  {
   "cell_type": "code",
   "execution_count": 81,
   "metadata": {},
   "outputs": [],
   "source": [
    "import os\n",
    "import numpy as np\n",
    "import pandas as pd\n",
    "import seaborn as sns\n",
    "import matplotlib.pyplot as plt\n",
    "import xgboost as xgb\n",
    "import statsmodels.api as sm\n",
    "\n",
    "from sklearn.preprocessing import StandardScaler\n",
    "from sklearn.model_selection import train_test_split,cross_val_score\n",
    "from imblearn.over_sampling import SMOTE\n",
    "from sklearn.neighbors import KNeighborsClassifier\n",
    "from sklearn.model_selection import GridSearchCV\n",
    "from sklearn.svm import SVC\n",
    "from sklearn.ensemble import RandomForestClassifier\n",
    "from sklearn.metrics import confusion_matrix, accuracy_score, roc_auc_score,mean_absolute_error,mean_squared_error\n",
    "from sklearn.metrics import recall_score, plot_confusion_matrix\n",
    "from IPython.display import Markdown as md\n",
    "from scipy.stats import chi2_contingency, chi2, stats\n",
    "from pandas_profiling import ProfileReport\n",
    "from datetime import datetime\n",
    "from statsmodels.formula.api import ols\n",
    "\n",
    "import warnings\n",
    "warnings.filterwarnings(\"ignore\")\n"
   ]
  },
  {
   "cell_type": "markdown",
   "metadata": {},
   "source": [
    "## Carga de datos\n",
    "<a name='carga' />"
   ]
  },
  {
   "cell_type": "code",
   "execution_count": 2,
   "metadata": {},
   "outputs": [],
   "source": [
    "\n",
    "file_user = 'C:\\\\Users\\\\nserr\\\\OneDrive\\\\Documentos\\\\Master Ciencia de Datos\\\\TFM\\\\Dataset\\\\Usuarios.csv'\n",
    "\n",
    "data_user = pd.read_csv(file_user,delimiter=';', encoding = 'ansi')"
   ]
  },
  {
   "cell_type": "code",
   "execution_count": 3,
   "metadata": {},
   "outputs": [],
   "source": [
    "file_consum = 'C:\\\\Users\\\\nserr\\\\OneDrive\\\\Documentos\\\\Master Ciencia de Datos\\\\TFM\\\\Dataset\\\\Consumos.csv'\n",
    "\n",
    "data_consum = pd.read_csv(file_consum,delimiter=';', encoding = 'ansi')"
   ]
  },
  {
   "cell_type": "code",
   "execution_count": 4,
   "metadata": {},
   "outputs": [],
   "source": [
    "\n",
    "# profile = ProfileReport(dset)\n",
    "\n",
    "# profile.to_file('dset_post' + str(datetime.now().strftime(\"%Y%m%d%H%M%S\")) + '.html')"
   ]
  },
  {
   "cell_type": "markdown",
   "metadata": {},
   "source": [
    "## Información del dataframe de usuario:<a name='info_user' />"
   ]
  },
  {
   "cell_type": "code",
   "execution_count": 5,
   "metadata": {},
   "outputs": [
    {
     "name": "stdout",
     "output_type": "stream",
     "text": [
      "<class 'pandas.core.frame.DataFrame'>\n",
      "RangeIndex: 368220 entries, 0 to 368219\n",
      "Data columns (total 19 columns):\n",
      " #   Column            Non-Null Count   Dtype  \n",
      "---  ------            --------------   -----  \n",
      " 0   IDUSUARIO         368220 non-null  int64  \n",
      " 1   TIPOUSUARIO       368220 non-null  object \n",
      " 2   FECHA_REGISTRO    368220 non-null  object \n",
      " 3   CANAL_REGISTRO    360684 non-null  float64\n",
      " 4   IND_CLIENTE       368220 non-null  int64  \n",
      " 5   IND_ALTA          368220 non-null  int64  \n",
      " 6   FECHA_ALTA        3720 non-null    object \n",
      " 7   FECHA_CLIENTE     2620 non-null    object \n",
      " 8   TIPOEMAIL         368220 non-null  object \n",
      " 9   BONDAD_EMAIL      368220 non-null  int64  \n",
      " 10  USU_TELF          368154 non-null  object \n",
      " 11  IPCASOS           368220 non-null  int64  \n",
      " 12  IP_Country        346323 non-null  object \n",
      " 13  IP_Region         217065 non-null  object \n",
      " 14  USU_TIPO          84215 non-null   object \n",
      " 15  USU_TAMANIO       84217 non-null   object \n",
      " 16  USU_CIIU          84217 non-null   object \n",
      " 17  USU_ESTADO        84217 non-null   object \n",
      " 18  USU_DEPARTAMENTO  90612 non-null   object \n",
      "dtypes: float64(1), int64(5), object(13)\n",
      "memory usage: 53.4+ MB\n",
      "None\n"
     ]
    }
   ],
   "source": [
    "print(data_user.info())"
   ]
  },
  {
   "cell_type": "markdown",
   "metadata": {},
   "source": [
    "## Información del dataset de consumo: <a name='info_consumo'>"
   ]
  },
  {
   "cell_type": "code",
   "execution_count": 170,
   "metadata": {},
   "outputs": [
    {
     "name": "stdout",
     "output_type": "stream",
     "text": [
      "<class 'pandas.core.frame.DataFrame'>\n",
      "RangeIndex: 938580 entries, 0 to 938579\n",
      "Data columns (total 11 columns):\n",
      " #   Column          Non-Null Count   Dtype \n",
      "---  ------          --------------   ----- \n",
      " 0   idCONSUMO       938580 non-null  int64 \n",
      " 1   IDUSUARIO       938580 non-null  int64 \n",
      " 2   IDPRODUCTO      938580 non-null  int64 \n",
      " 3   DESCPRODUCTO    938580 non-null  object\n",
      " 4   IDGRUPOPROD     938580 non-null  int64 \n",
      " 5   DESCGRUPOPROD   938580 non-null  object\n",
      " 6   FECHACONSUMO    938580 non-null  object\n",
      " 7   EMPCONSUL_ID    938580 non-null  int64 \n",
      " 8   EMPCONSUL_CIIU  934979 non-null  object\n",
      " 9   EMPCONSUL_PROV  934979 non-null  object\n",
      " 10  EMPCONSUL_EST   934979 non-null  object\n",
      "dtypes: int64(5), object(6)\n",
      "memory usage: 78.8+ MB\n",
      "None\n"
     ]
    }
   ],
   "source": [
    "print(data_consum.info())"
   ]
  },
  {
   "cell_type": "markdown",
   "metadata": {},
   "source": [
    "## Crosstab TIPOUSUARIO ~ IND_CLIENTE\n",
    "<a name='crosstab' />"
   ]
  },
  {
   "cell_type": "code",
   "execution_count": 6,
   "metadata": {},
   "outputs": [
    {
     "name": "stdout",
     "output_type": "stream",
     "text": [
      "IND_CLIENTE       0     1\n",
      "TIPOUSUARIO              \n",
      "PF           264974  1180\n",
      "PJ            88622  1305\n",
      "PX            11998   141\n"
     ]
    }
   ],
   "source": [
    "print(pd.crosstab(data_user['TIPOUSUARIO'],data_user['IND_CLIENTE']))"
   ]
  },
  {
   "cell_type": "code",
   "execution_count": 7,
   "metadata": {},
   "outputs": [
    {
     "data": {
      "image/png": "[encoded data removed]",
      "text/plain": [
       "<Figure size 360x360 with 2 Axes>"
      ]
     },
     "metadata": {
      "needs_background": "light"
     },
     "output_type": "display_data"
    }
   ],
   "source": [
    "fig, ax = plt.subplots(figsize=(5,5))         \n",
    "\n",
    "sns.heatmap(pd.crosstab(data_user['TIPOUSUARIO'],data_user['IND_CLIENTE']), cmap='YlGnBu', annot_kws={'size':15}, ax=ax)\n",
    "\n",
    "ax.set_title(\"TIPOUSUARIO ~ IND_CLIENTE\", fontsize=14)\n",
    "\n",
    "plt.show()"
   ]
  },
  {
   "cell_type": "markdown",
   "metadata": {},
   "source": [
    "# Creacion del sub-dataset\n",
    "<a name='subset' />"
   ]
  },
  {
   "cell_type": "code",
   "execution_count": 8,
   "metadata": {},
   "outputs": [
    {
     "data": {
      "text/plain": [
       "PF    266154\n",
       "PJ     89927\n",
       "PX     12139\n",
       "Name: TIPOUSUARIO, dtype: int64"
      ]
     },
     "execution_count": 8,
     "metadata": {},
     "output_type": "execute_result"
    }
   ],
   "source": [
    "data_user['TIPOUSUARIO'].value_counts()"
   ]
  },
  {
   "cell_type": "code",
   "execution_count": 9,
   "metadata": {},
   "outputs": [
    {
     "name": "stdout",
     "output_type": "stream",
     "text": [
      "<class 'pandas.core.frame.DataFrame'>\n",
      "Int64Index: 102055 entries, 1 to 368156\n",
      "Data columns (total 10 columns):\n",
      " #   Column          Non-Null Count   Dtype  \n",
      "---  ------          --------------   -----  \n",
      " 0   CANAL_REGISTRO  100471 non-null  float64\n",
      " 1   IND_CLIENTE     102055 non-null  int64  \n",
      " 2   TIPOEMAIL       102055 non-null  object \n",
      " 3   IPCASOS         102055 non-null  int64  \n",
      " 4   BONDAD_EMAIL    102055 non-null  int64  \n",
      " 5   IP_Country      95169 non-null   object \n",
      " 6   USU_TIPO        83191 non-null   object \n",
      " 7   USU_TAMANIO     83193 non-null   object \n",
      " 8   USU_CIIU        83193 non-null   object \n",
      " 9   PROMOPROD       102055 non-null  int64  \n",
      "dtypes: float64(1), int64(4), object(5)\n",
      "memory usage: 8.6+ MB\n",
      "None\n"
     ]
    }
   ],
   "source": [
    "df = data_consum[['IDUSUARIO', 'IDGRUPOPROD']]\n",
    "df['IDGRUPOPROD'] = np.where(df['IDGRUPOPROD'] == 144917, 'promo'\n",
    "        , np.where(df['IDGRUPOPROD'] == 144920, 'promo'\n",
    "                  , 'pago'))\n",
    "\n",
    "df_filter  = pd.DataFrame(df.groupby(by=['IDUSUARIO','IDGRUPOPROD'],as_index=False)['IDUSUARIO'].size())\n",
    "df = df_filter[df_filter['IDGRUPOPROD'] == 'promo']\n",
    "df = df.rename(columns={'size':'PROMOPROD'})\n",
    "\n",
    "# print('Numero de registros de consumo post groupby: {}'.format(df.shape[0]))\n",
    "# print('\\nNumero de registros de data_user: {} \\n'.format(data_user.shape[0]))\n",
    "\n",
    "df_merge = pd.merge(data_user,df, on='IDUSUARIO')\n",
    "\n",
    "df_merge = df_merge[df_merge['TIPOUSUARIO'] != 'PF']\n",
    "\n",
    "dset = df_merge[['CANAL_REGISTRO','IND_CLIENTE','TIPOEMAIL','IPCASOS'\n",
    "                , 'BONDAD_EMAIL','IP_Country','USU_TIPO', 'USU_TAMANIO','USU_CIIU', 'PROMOPROD']]\n",
    "\n",
    "\n",
    "print(dset.info())"
   ]
  },
  {
   "cell_type": "markdown",
   "metadata": {},
   "source": [
    "## Cambio del tipo de datos:\n",
    "<a name='cambiotipodatos' />"
   ]
  },
  {
   "cell_type": "code",
   "execution_count": 10,
   "metadata": {},
   "outputs": [],
   "source": [
    "dset['CANAL_REGISTRO'] = dset['CANAL_REGISTRO'].astype('category')\n",
    "\n",
    "dset['BONDAD_EMAIL'] = dset['BONDAD_EMAIL'].astype('category')\n",
    "\n",
    "dset['IP_Country'] = dset['IP_Country'].astype('category')\n",
    "dset['IP_Country'] = dset['IP_Country'].cat.codes\n",
    "dset['IP_Country'] = dset['IP_Country'].astype('category')\n",
    "\n",
    "dset['TIPOEMAIL'] = dset['TIPOEMAIL'].astype('category')\n",
    "dset['TIPOEMAIL'] = dset['TIPOEMAIL'].cat.codes\n",
    "dset['TIPOEMAIL'] = dset['TIPOEMAIL'].astype('category')\n",
    "\n",
    "dset['USU_TIPO'] = dset['USU_TIPO'].astype('category')\n",
    "dset['USU_TIPO'] = dset['USU_TIPO'].cat.codes\n",
    "dset['USU_TIPO'] = dset['USU_TIPO'].astype('category')\n",
    "\n",
    "dset['USU_TAMANIO'] = dset['USU_TAMANIO'].astype('category')\n",
    "dset['USU_TAMANIO'] = dset['USU_TAMANIO'].cat.codes\n",
    "dset['USU_TAMANIO'] = dset['USU_TAMANIO'].astype('category')\n",
    "\n",
    "dset['USU_CIIU'] = dset['USU_CIIU'].astype('category')\n",
    "dset['USU_CIIU'] = dset['USU_CIIU'].cat.codes\n",
    "dset['USU_CIIU'] = dset['USU_CIIU'].astype('category')"
   ]
  },
  {
   "cell_type": "code",
   "execution_count": 11,
   "metadata": {},
   "outputs": [
    {
     "name": "stdout",
     "output_type": "stream",
     "text": [
      "<class 'pandas.core.frame.DataFrame'>\n",
      "Int64Index: 102055 entries, 1 to 368156\n",
      "Data columns (total 10 columns):\n",
      " #   Column          Non-Null Count   Dtype   \n",
      "---  ------          --------------   -----   \n",
      " 0   CANAL_REGISTRO  100471 non-null  category\n",
      " 1   IND_CLIENTE     102055 non-null  int64   \n",
      " 2   TIPOEMAIL       102055 non-null  category\n",
      " 3   IPCASOS         102055 non-null  int64   \n",
      " 4   BONDAD_EMAIL    102055 non-null  category\n",
      " 5   IP_Country      102055 non-null  category\n",
      " 6   USU_TIPO        102055 non-null  category\n",
      " 7   USU_TAMANIO     102055 non-null  category\n",
      " 8   USU_CIIU        102055 non-null  category\n",
      " 9   PROMOPROD       102055 non-null  int64   \n",
      "dtypes: category(7), int64(3)\n",
      "memory usage: 3.9 MB\n"
     ]
    }
   ],
   "source": [
    "dset.info()"
   ]
  },
  {
   "cell_type": "markdown",
   "metadata": {},
   "source": [
    "## Rellenar valores NaN:\n",
    "<a name='rellenar' />"
   ]
  },
  {
   "cell_type": "code",
   "execution_count": 12,
   "metadata": {},
   "outputs": [
    {
     "data": {
      "text/plain": [
       "CANAL_REGISTRO    False\n",
       "IND_CLIENTE       False\n",
       "TIPOEMAIL         False\n",
       "IPCASOS           False\n",
       "BONDAD_EMAIL      False\n",
       "IP_Country        False\n",
       "USU_TIPO          False\n",
       "USU_TAMANIO       False\n",
       "USU_CIIU          False\n",
       "PROMOPROD         False\n",
       "dtype: bool"
      ]
     },
     "execution_count": 12,
     "metadata": {},
     "output_type": "execute_result"
    }
   ],
   "source": [
    "# Rellenar los missing de las categoricas con su valor mas frecuente\n",
    "\n",
    "dset = dset.apply(lambda x: x.fillna(x.value_counts().index[0]))\n",
    "\n",
    "dset.isna().any()"
   ]
  },
  {
   "cell_type": "markdown",
   "metadata": {},
   "source": [
    "## Proporcion de Clientes vs No Clientes:\n",
    "<a name='proporcion' />"
   ]
  },
  {
   "cell_type": "code",
   "execution_count": 13,
   "metadata": {
    "scrolled": false
   },
   "outputs": [
    {
     "name": "stdout",
     "output_type": "stream",
     "text": [
      "El número de NO clientes es: 100620 lo que supone un  98.59 % del dataset\n",
      "El número de clientes es: 1435 lo que supone un  1.41 % del dataset\n"
     ]
    }
   ],
   "source": [
    "print('El número de NO clientes es: ' + str(dset['IND_CLIENTE'].value_counts()[0]) \n",
    "      + ' lo que supone un ', round(dset['IND_CLIENTE'].value_counts()[0]/len(dset) * 100,2), '% del dataset')\n",
    "print('El número de clientes es: ' + str(dset['IND_CLIENTE'].value_counts()[1]) \n",
    "      + ' lo que supone un ', round(dset['IND_CLIENTE'].value_counts()[1]/len(dset) * 100,2), '% del dataset')\n",
    "\n",
    "# contingency = pd.crosstab(dset['TIPOUSUARIO'],dset['IND_CLIENTE'],normalize='index')\n",
    "# print('\\nTabla de contingencia\\n')\n",
    "# print(contingency)"
   ]
  },
  {
   "cell_type": "code",
   "execution_count": 14,
   "metadata": {},
   "outputs": [
    {
     "data": {
      "text/plain": [
       "<AxesSubplot:xlabel='IND_CLIENTE', ylabel='count'>"
      ]
     },
     "execution_count": 14,
     "metadata": {},
     "output_type": "execute_result"
    },
    {
     "data": {
      "image/png": "[encoded data removed]",
      "text/plain": [
       "<Figure size 360x360 with 1 Axes>"
      ]
     },
     "metadata": {
      "needs_background": "light"
     },
     "output_type": "display_data"
    }
   ],
   "source": [
    "plt.figure(figsize=(5, 5))\n",
    "sns.countplot('IND_CLIENTE', data=dset)"
   ]
  },
  {
   "cell_type": "code",
   "execution_count": 15,
   "metadata": {},
   "outputs": [],
   "source": [
    "def fn_chisq_pv(var_df, var_cat):\n",
    "    cont_table = pd.crosstab(var_cat,var_df['IND_CLIENTE'] , normalize='index')\n",
    "\n",
    "    stat, p, dof, expected = chi2_contingency(cont_table)\n",
    "    \n",
    "    alpha = 0.05\n",
    "\n",
    "    if p <= alpha:\n",
    "        return('Dependent (reject H0)')\n",
    "    else:\n",
    "        return('Independent (fail to reject H0)')\n",
    "    "
   ]
  },
  {
   "cell_type": "markdown",
   "metadata": {},
   "source": [
    "## Analisis de la dependencia de las variables categóricas:\n",
    "<a name='dependencia_cat' />"
   ]
  },
  {
   "cell_type": "code",
   "execution_count": 16,
   "metadata": {
    "scrolled": true
   },
   "outputs": [
    {
     "name": "stdout",
     "output_type": "stream",
     "text": [
      "La variable CANAL_REGISTRO es Independent (fail to reject H0) con chisq_pv.\n",
      "\n",
      "La variable IND_CLIENTE es Independent (fail to reject H0) con chisq_pv.\n",
      "\n",
      "La variable TIPOEMAIL es Independent (fail to reject H0) con chisq_pv.\n",
      "\n",
      "La variable IPCASOS es Independent (fail to reject H0) con chisq_pv.\n",
      "\n",
      "La variable BONDAD_EMAIL es Independent (fail to reject H0) con chisq_pv.\n",
      "\n",
      "La variable IP_Country es Independent (fail to reject H0) con chisq_pv.\n",
      "\n",
      "La variable USU_TIPO es Independent (fail to reject H0) con chisq_pv.\n",
      "\n",
      "La variable USU_TAMANIO es Independent (fail to reject H0) con chisq_pv.\n",
      "\n",
      "La variable USU_CIIU es Independent (fail to reject H0) con chisq_pv.\n",
      "\n",
      "La variable PROMOPROD es Independent (fail to reject H0) con chisq_pv.\n",
      "\n"
     ]
    }
   ],
   "source": [
    "dataset = dset   #/* DataFrame a analizar */\n",
    "columns_v = dataset.columns.values\n",
    "\n",
    "for col in columns_v:\n",
    "    print('La variable {} es {} con chisq_pv.\\n'.format(col,fn_chisq_pv(dataset,dataset[col])))"
   ]
  },
  {
   "cell_type": "markdown",
   "metadata": {},
   "source": [
    "## Análisis de la dependencia de las vaiables continuas:\n",
    "<a name='dependencia_cont' />"
   ]
  },
  {
   "cell_type": "code",
   "execution_count": 17,
   "metadata": {},
   "outputs": [
    {
     "name": "stdout",
     "output_type": "stream",
     "text": [
      "64.64595497701718 9.011422220238718e-16\n",
      "\n",
      "\n",
      "                   sum_sq        df          F  PR(>F)\n",
      "C(PROMOPROD)   169.770722     153.0  90.816013     0.0\n",
      "Residual      1245.051678  101901.0        NaN     NaN\n"
     ]
    }
   ],
   "source": [
    "# ANOVA para PROMOPROD\n",
    "df_new = dset[['IND_CLIENTE', 'PROMOPROD']]\n",
    "\n",
    "fvalue, pvalue = stats.f_oneway(df_new['IND_CLIENTE'], df_new['PROMOPROD'])\n",
    "print(fvalue, pvalue)\n",
    "print('\\n')\n",
    "\n",
    "import statsmodels.api as sm\n",
    "from statsmodels.formula.api import ols\n",
    "\n",
    "# Ordinary Least Squares (OLS) model\n",
    "model = ols('IND_CLIENTE ~ C(PROMOPROD)', data=df_new).fit()\n",
    "anova_table = sm.stats.anova_lm(model, typ=2)\n",
    "print(anova_table)"
   ]
  },
  {
   "cell_type": "code",
   "execution_count": 18,
   "metadata": {},
   "outputs": [
    {
     "name": "stdout",
     "output_type": "stream",
     "text": [
      "1977.258726688214 0.0\n",
      "\n",
      "\n",
      "                 sum_sq        df         F  PR(>F)\n",
      "C(IPCASOS)    83.719566     261.0  24.52973     0.0\n",
      "Residual    1331.102834  101793.0       NaN     NaN\n"
     ]
    }
   ],
   "source": [
    "# ANOVA para PROMOPROD\n",
    "df_new = dset[['IND_CLIENTE', 'IPCASOS']]\n",
    "\n",
    "fvalue, pvalue = stats.f_oneway(df_new['IND_CLIENTE'], df_new['IPCASOS'])\n",
    "print(fvalue, pvalue)\n",
    "print('\\n')\n",
    "\n",
    "import statsmodels.api as sm\n",
    "from statsmodels.formula.api import ols\n",
    "\n",
    "# Ordinary Least Squares (OLS) model\n",
    "model = ols('IND_CLIENTE ~ C(IPCASOS)', data=df_new).fit()\n",
    "anova_table = sm.stats.anova_lm(model, typ=2)\n",
    "print(anova_table)"
   ]
  },
  {
   "cell_type": "code",
   "execution_count": 19,
   "metadata": {},
   "outputs": [
    {
     "data": {
      "image/png": "[encoded data removed]",
      "text/plain": [
       "<Figure size 360x360 with 2 Axes>"
      ]
     },
     "metadata": {
      "needs_background": "light"
     },
     "output_type": "display_data"
    }
   ],
   "source": [
    "# Sample figsize in inches\n",
    "fig, ax = plt.subplots(figsize=(5,5))         \n",
    "\n",
    "# Imbalanced DataFrame Correlation\n",
    "corr = dset.corr()\n",
    "sns.heatmap(corr, cmap='YlGnBu', annot_kws={'size':30}, ax=ax)\n",
    "ax.set_title(\"Imbalanced Correlation Matrix\", fontsize=14)\n",
    "\n",
    "plt.show()"
   ]
  },
  {
   "cell_type": "code",
   "execution_count": 20,
   "metadata": {},
   "outputs": [
    {
     "data": {
      "text/plain": [
       "array(['CANAL_REGISTRO', 'IND_CLIENTE', 'TIPOEMAIL', 'IPCASOS',\n",
       "       'BONDAD_EMAIL', 'IP_Country', 'USU_TIPO', 'USU_TAMANIO',\n",
       "       'USU_CIIU', 'PROMOPROD'], dtype=object)"
      ]
     },
     "execution_count": 20,
     "metadata": {},
     "output_type": "execute_result"
    }
   ],
   "source": [
    "dset.columns.values"
   ]
  },
  {
   "cell_type": "markdown",
   "metadata": {},
   "source": [
    "## Separar los datos entre Train y Test:\n",
    "<a name='traintest' />"
   ]
  },
  {
   "cell_type": "code",
   "execution_count": 21,
   "metadata": {},
   "outputs": [
    {
     "name": "stdout",
     "output_type": "stream",
     "text": [
      "Disponemos de 81644 datos para entrenamiento y 20411 datos para prueba\n"
     ]
    }
   ],
   "source": [
    "X= dset.iloc[:,[0,2,3,4,5,6,7,8,9]]\n",
    "Y = dset.iloc[:,[1]] \n",
    "\n",
    "X= StandardScaler().fit_transform(X)\n",
    " \n",
    "# Separamos los datos en train y test\n",
    "\n",
    "X_train, X_test, y_train, y_test = train_test_split(X, Y, test_size=0.2)\n",
    "\n",
    "print('Disponemos de {} datos para entrenamiento y {} datos para prueba'.format(X_train.shape[0], X_test.shape[0]))\n",
    "\n",
    "sm = SMOTE(sampling_strategy='minority', random_state=7)\n",
    "\n",
    "oversampled_trainX, oversampled_trainY = sm.fit_sample(X_train,  y_train) #Cambio X por X_train, Y por y_train 20210518\n",
    "oversampled_train = pd.concat([pd.DataFrame(oversampled_trainY), pd.DataFrame(oversampled_trainX)], axis=1)\n"
   ]
  },
  {
   "cell_type": "markdown",
   "metadata": {},
   "source": [
    "# KNN\n",
    "<a name='knn' />"
   ]
  },
  {
   "cell_type": "markdown",
   "metadata": {},
   "source": [
    "### Busqueda de hiperparámetros:\n",
    "<a name='knn_hiper' />"
   ]
  },
  {
   "cell_type": "code",
   "execution_count": 22,
   "metadata": {},
   "outputs": [
    {
     "name": "stdout",
     "output_type": "stream",
     "text": [
      "Los mejores parámetros han sido: {'n_neighbors': 2, 'weights': 'distance'}\n"
     ]
    }
   ],
   "source": [
    "# model_knn = KNeighborsClassifier()\n",
    "            \n",
    "param_grid_knn = {\"n_neighbors\": range(1, 11), \"weights\": [\"uniform\", \"distance\"]}\n",
    "\n",
    "grid_search_knn = GridSearchCV(KNeighborsClassifier(), param_grid=param_grid_knn, cv=4)\n",
    "\n",
    "grid_search_knn.fit(oversampled_trainX, oversampled_trainY)\n",
    "\n",
    "means_knn = grid_search_knn.cv_results_[\"mean_test_score\"]\n",
    "stds_knn = grid_search_knn.cv_results_[\"std_test_score\"]\n",
    "params_knn = grid_search_knn.cv_results_['params']\n",
    "\n",
    "# for mean, std, pms in zip(means_knn, stds_knn, params_knn):\n",
    "#     print(\"Precisión media: {:.2f} +/- {:.2f} con parámetros {}\".format(mean*100, std*100, pms))\n",
    "\n",
    "print(\"Los mejores parámetros han sido: {}\".format(grid_search_knn.best_params_))"
   ]
  },
  {
   "cell_type": "markdown",
   "metadata": {},
   "source": [
    "### Crear modelo Knn\n",
    "<a name='knn_crear' />"
   ]
  },
  {
   "cell_type": "code",
   "execution_count": 23,
   "metadata": {},
   "outputs": [],
   "source": [
    "bp_knn = grid_search_knn.best_params_\n",
    "model_knn = KNeighborsClassifier(n_neighbors=bp_knn['n_neighbors'], weights=bp_knn['weights'])\n",
    "model_knn.fit(oversampled_trainX, oversampled_trainY)\n",
    "\n",
    "preds_knn = model_knn.predict(X_test)"
   ]
  },
  {
   "cell_type": "code",
   "execution_count": 24,
   "metadata": {},
   "outputs": [
    {
     "data": {
      "text/plain": [
       "0.9615893390818676"
      ]
     },
     "execution_count": 24,
     "metadata": {},
     "output_type": "execute_result"
    }
   ],
   "source": [
    "accuracy_score(y_test,preds_knn)"
   ]
  },
  {
   "cell_type": "code",
   "execution_count": 25,
   "metadata": {},
   "outputs": [
    {
     "data": {
      "text/plain": [
       "0.24015748031496062"
      ]
     },
     "execution_count": 25,
     "metadata": {},
     "output_type": "execute_result"
    }
   ],
   "source": [
    "recall_score(y_test,preds_knn)"
   ]
  },
  {
   "cell_type": "code",
   "execution_count": 26,
   "metadata": {},
   "outputs": [
    {
     "data": {
      "text/html": [
       "<div>\n",
       "<style scoped>\n",
       "    .dataframe tbody tr th:only-of-type {\n",
       "        vertical-align: middle;\n",
       "    }\n",
       "\n",
       "    .dataframe tbody tr th {\n",
       "        vertical-align: top;\n",
       "    }\n",
       "\n",
       "    .dataframe thead th {\n",
       "        text-align: right;\n",
       "    }\n",
       "</style>\n",
       "<table border=\"1\" class=\"dataframe\">\n",
       "  <thead>\n",
       "    <tr style=\"text-align: right;\">\n",
       "      <th>Predicted</th>\n",
       "      <th>0</th>\n",
       "      <th>1</th>\n",
       "    </tr>\n",
       "    <tr>\n",
       "      <th>Actual</th>\n",
       "      <th></th>\n",
       "      <th></th>\n",
       "    </tr>\n",
       "  </thead>\n",
       "  <tbody>\n",
       "    <tr>\n",
       "      <th>0</th>\n",
       "      <td>19566</td>\n",
       "      <td>591</td>\n",
       "    </tr>\n",
       "    <tr>\n",
       "      <th>1</th>\n",
       "      <td>193</td>\n",
       "      <td>61</td>\n",
       "    </tr>\n",
       "  </tbody>\n",
       "</table>\n",
       "</div>"
      ],
      "text/plain": [
       "Predicted      0    1\n",
       "Actual               \n",
       "0          19566  591\n",
       "1            193   61"
      ]
     },
     "execution_count": 26,
     "metadata": {},
     "output_type": "execute_result"
    }
   ],
   "source": [
    "y_actual = y_test.iloc[:,0]\n",
    "\n",
    "data = {'y_Actual':    y_actual,\n",
    "        'y_Predicted': preds_knn\n",
    "        }\n",
    "\n",
    "df = pd.DataFrame(data, columns=['y_Actual','y_Predicted'])\n",
    "confusion_matrix = pd.crosstab(df['y_Actual'], df['y_Predicted'], rownames=['Actual'], colnames=['Predicted'])\n",
    "confusion_matrix\n",
    "# sns.heatmap(confusion_matrix, annot=True)\n",
    "# plt.show()\n"
   ]
  },
  {
   "cell_type": "markdown",
   "metadata": {},
   "source": [
    "# Random Forest\n",
    "<a name='randomforest' />"
   ]
  },
  {
   "cell_type": "markdown",
   "metadata": {},
   "source": [
    "### Busqueda de hiperparámetros:\n",
    "<a name='rf_hiper' />"
   ]
  },
  {
   "cell_type": "code",
   "execution_count": 27,
   "metadata": {},
   "outputs": [
    {
     "name": "stdout",
     "output_type": "stream",
     "text": [
      "Los mejores parámetros han sido: {'max_depth': 12, 'n_estimators': 200}\n"
     ]
    }
   ],
   "source": [
    "# model_rf = RandomForestClassifier()\n",
    "\n",
    "param_grid_rf = {\"max_depth\": range(6, 13), \"n_estimators\": [10, 50, 100, 200]}\n",
    "\n",
    "grid_search_rf = GridSearchCV(RandomForestClassifier(), param_grid=param_grid_rf, cv=4)\n",
    "grid_search_rf.fit(oversampled_trainX, oversampled_trainY)\n",
    "\n",
    "means_rf = grid_search_rf.cv_results_[\"mean_test_score\"]\n",
    "stds_rf = grid_search_rf.cv_results_[\"std_test_score\"]\n",
    "params_rf = grid_search_rf.cv_results_['params']\n",
    "\n",
    "# for mean, std, pms in zip(means_rf, stds_rf, params_rf):\n",
    "#     print(\"Precisión media: {:.2f} +/- {:.2f} con parámetros {}\".format(mean*100, std*100, pms))\n",
    "\n",
    "print(\"Los mejores parámetros han sido: {}\".format(grid_search_rf.best_params_))"
   ]
  },
  {
   "cell_type": "markdown",
   "metadata": {},
   "source": [
    "### Crear el modelo Random Forest:\n",
    "<a name='rf_crear' />"
   ]
  },
  {
   "cell_type": "code",
   "execution_count": 28,
   "metadata": {},
   "outputs": [],
   "source": [
    "bp_rf = grid_search_rf.best_params_\n",
    "model_rf = RandomForestClassifier(max_depth=bp_rf['max_depth'], n_estimators=bp_rf['n_estimators'])\n",
    "model_rf.fit(oversampled_trainX, oversampled_trainY)\n",
    "\n",
    "preds_rf = model_rf.predict(X_test)\n",
    "\n"
   ]
  },
  {
   "cell_type": "code",
   "execution_count": 29,
   "metadata": {},
   "outputs": [
    {
     "data": {
      "text/plain": [
       "0.9420410562931752"
      ]
     },
     "execution_count": 29,
     "metadata": {},
     "output_type": "execute_result"
    }
   ],
   "source": [
    "accuracy_score(y_test, preds_rf)"
   ]
  },
  {
   "cell_type": "code",
   "execution_count": 30,
   "metadata": {},
   "outputs": [
    {
     "data": {
      "text/html": [
       "<div>\n",
       "<style scoped>\n",
       "    .dataframe tbody tr th:only-of-type {\n",
       "        vertical-align: middle;\n",
       "    }\n",
       "\n",
       "    .dataframe tbody tr th {\n",
       "        vertical-align: top;\n",
       "    }\n",
       "\n",
       "    .dataframe thead th {\n",
       "        text-align: right;\n",
       "    }\n",
       "</style>\n",
       "<table border=\"1\" class=\"dataframe\">\n",
       "  <thead>\n",
       "    <tr style=\"text-align: right;\">\n",
       "      <th>Predicted</th>\n",
       "      <th>0</th>\n",
       "      <th>1</th>\n",
       "    </tr>\n",
       "    <tr>\n",
       "      <th>Actual</th>\n",
       "      <th></th>\n",
       "      <th></th>\n",
       "    </tr>\n",
       "  </thead>\n",
       "  <tbody>\n",
       "    <tr>\n",
       "      <th>0</th>\n",
       "      <td>19069</td>\n",
       "      <td>1088</td>\n",
       "    </tr>\n",
       "    <tr>\n",
       "      <th>1</th>\n",
       "      <td>95</td>\n",
       "      <td>159</td>\n",
       "    </tr>\n",
       "  </tbody>\n",
       "</table>\n",
       "</div>"
      ],
      "text/plain": [
       "Predicted      0     1\n",
       "Actual                \n",
       "0          19069  1088\n",
       "1             95   159"
      ]
     },
     "execution_count": 30,
     "metadata": {},
     "output_type": "execute_result"
    }
   ],
   "source": [
    "y_actual = y_test.iloc[:,0]\n",
    "\n",
    "data = {'y_Actual':    y_actual,\n",
    "        'y_Predicted': preds_rf\n",
    "        }\n",
    "\n",
    "df = pd.DataFrame(data, columns=['y_Actual','y_Predicted'])\n",
    "confusion_matrix = pd.crosstab(df['y_Actual'], df['y_Predicted'], rownames=['Actual'], colnames=['Predicted'])\n",
    "confusion_matrix\n",
    "# sns.heatmap(confusion_matrix, annot=True)\n",
    "# plt.show()"
   ]
  },
  {
   "cell_type": "markdown",
   "metadata": {},
   "source": [
    "# XGBoost\n",
    "<a name='xgb' />"
   ]
  },
  {
   "cell_type": "markdown",
   "metadata": {},
   "source": [
    "### Busqueda de hiperparámetros:\n",
    "<a name='xgb_hiper' />"
   ]
  },
  {
   "cell_type": "code",
   "execution_count": 31,
   "metadata": {},
   "outputs": [
    {
     "name": "stdout",
     "output_type": "stream",
     "text": [
      "Los mejores parámetros han sido: {'colsample_bytree': 1.0, 'gamma': 0.5, 'max_depth': 5, 'min_child_weight': 1, 'subsample': 1.0}\n"
     ]
    }
   ],
   "source": [
    "param_grid_xgb = {\n",
    "                    'min_child_weight': [1, 5, 10],\n",
    "                    'gamma': [0.5, 1, 1.5, 2, 5],\n",
    "                    'subsample': [0.6, 0.8, 1.0],\n",
    "                    'colsample_bytree': [0.6, 0.8, 1.0],\n",
    "                    'max_depth': [3, 4, 5]\n",
    "                    }\n",
    "\n",
    "grid_search_xgb = GridSearchCV(xgb.XGBRegressor(), param_grid=param_grid_xgb, cv=4)\n",
    "grid_search_xgb.fit(oversampled_trainX, oversampled_trainY)\n",
    "\n",
    "means_xgb = grid_search_xgb.cv_results_[\"mean_test_score\"]\n",
    "stds_xgb = grid_search_xgb.cv_results_[\"std_test_score\"]\n",
    "params_xgb = grid_search_xgb.cv_results_['params']\n",
    "\n",
    "# for mean, std, pms in zip(means_xgb, stds_xgb, params_xgb):\n",
    "#     print(\"Precisión media: {:.2f} +/- {:.2f} con parámetros {}\".format(mean*100, std*100, pms))\n",
    "\n",
    "print(\"Los mejores parámetros han sido: {}\".format(grid_search_xgb.best_params_))"
   ]
  },
  {
   "cell_type": "markdown",
   "metadata": {},
   "source": [
    "### Crear el modelo XGBoost:\n",
    "<a name='xgb_crear' />"
   ]
  },
  {
   "cell_type": "code",
   "execution_count": 32,
   "metadata": {},
   "outputs": [],
   "source": [
    "bp_xgb = grid_search_xgb.best_params_\n",
    "model_xgb = xgb.XGBRegressor(\n",
    "                    min_child_weight= bp_xgb['min_child_weight'],\n",
    "                    gamma= bp_xgb['gamma'],\n",
    "                    subsample= bp_xgb['subsample'],\n",
    "                    colsample_bytree=  bp_xgb['colsample_bytree'],\n",
    "                    max_depth= bp_xgb['max_depth'])\n",
    "\n",
    "model_xgb.fit(oversampled_trainX, oversampled_trainY)\n",
    "\n",
    "preds_xgb = model_xgb.predict(X_test)\n",
    "\n",
    "# accuracy_xgb = np.true_divide(np.sum(preds_xgb == y_test), preds_xgb.shape[0])*100\n",
    "# xgb_matrix = confusion_matrix(y_test, preds_xgb)\n",
    "\n",
    "# print(accuracy_xgb)\n",
    "# print(xgb_matrix)"
   ]
  },
  {
   "cell_type": "code",
   "execution_count": 33,
   "metadata": {},
   "outputs": [
    {
     "data": {
      "text/plain": [
       "0.9820684924795453"
      ]
     },
     "execution_count": 33,
     "metadata": {},
     "output_type": "execute_result"
    }
   ],
   "source": [
    "accuracy_score(y_test, preds_xgb.round())"
   ]
  },
  {
   "cell_type": "code",
   "execution_count": 34,
   "metadata": {},
   "outputs": [
    {
     "data": {
      "text/html": [
       "<div>\n",
       "<style scoped>\n",
       "    .dataframe tbody tr th:only-of-type {\n",
       "        vertical-align: middle;\n",
       "    }\n",
       "\n",
       "    .dataframe tbody tr th {\n",
       "        vertical-align: top;\n",
       "    }\n",
       "\n",
       "    .dataframe thead th {\n",
       "        text-align: right;\n",
       "    }\n",
       "</style>\n",
       "<table border=\"1\" class=\"dataframe\">\n",
       "  <thead>\n",
       "    <tr style=\"text-align: right;\">\n",
       "      <th>Predicted</th>\n",
       "      <th>0.0</th>\n",
       "      <th>1.0</th>\n",
       "    </tr>\n",
       "    <tr>\n",
       "      <th>Actual</th>\n",
       "      <th></th>\n",
       "      <th></th>\n",
       "    </tr>\n",
       "  </thead>\n",
       "  <tbody>\n",
       "    <tr>\n",
       "      <th>0</th>\n",
       "      <td>19962</td>\n",
       "      <td>195</td>\n",
       "    </tr>\n",
       "    <tr>\n",
       "      <th>1</th>\n",
       "      <td>171</td>\n",
       "      <td>83</td>\n",
       "    </tr>\n",
       "  </tbody>\n",
       "</table>\n",
       "</div>"
      ],
      "text/plain": [
       "Predicted    0.0  1.0\n",
       "Actual               \n",
       "0          19962  195\n",
       "1            171   83"
      ]
     },
     "execution_count": 34,
     "metadata": {},
     "output_type": "execute_result"
    }
   ],
   "source": [
    "y_actual = y_test.iloc[:,0]\n",
    "\n",
    "data = {'y_Actual':    y_actual,\n",
    "        'y_Predicted': preds_xgb.round()\n",
    "        }\n",
    "\n",
    "df = pd.DataFrame(data, columns=['y_Actual','y_Predicted'])\n",
    "confusion_matrix = pd.crosstab(df['y_Actual'], df['y_Predicted'], rownames=['Actual'], colnames=['Predicted'])\n",
    "confusion_matrix"
   ]
  },
  {
   "cell_type": "markdown",
   "metadata": {},
   "source": [
    "## Análisis de resultados:\n",
    "<a name='resultados' />"
   ]
  },
  {
   "cell_type": "code",
   "execution_count": 152,
   "metadata": {},
   "outputs": [
    {
     "name": "stdout",
     "output_type": "stream",
     "text": [
      "          Model     Score       MAE       MSE    Recall\n",
      "0           Knn  0.961589  0.038411  0.038411  0.240157\n",
      "1  RandomForest  0.942041  0.057959  0.057959  0.625984\n",
      "2           XGB  0.982068  0.065285  0.018788  0.326772\n"
     ]
    }
   ],
   "source": [
    "ac_knn = accuracy_score(y_test, preds_knn)\n",
    "ac_rf = accuracy_score(y_test, preds_rf)\n",
    "ac_xgb = accuracy_score(y_test, preds_xgb.round())\n",
    "\n",
    "mae_knn = mean_absolute_error(y_test, preds_knn)\n",
    "mae_rf = mean_absolute_error(y_test, preds_rf)\n",
    "mae_xgb = mean_absolute_error(y_test, preds_xgb)\n",
    "                              \n",
    "mse_knn = mean_squared_error(y_test, preds_knn)  \n",
    "mse_rf = mean_squared_error(y_test, preds_rf)\n",
    "mse_xgb = mean_squared_error(y_test, preds_xgb)\n",
    "\n",
    "recall_knn = recall_score(y_test,preds_knn)\n",
    "recall_rf = recall_score(y_test,preds_rf)\n",
    "recall_xgb = recall_score(y_test,preds_xgb.round())\n",
    "\n",
    "compare_models = pd.DataFrame(\n",
    "    {  'Model' : ['Knn', 'RandomForest','XGB'],\n",
    "       'Score' : [ac_knn,ac_rf,ac_xgb],\n",
    "        'MAE'  : [mae_knn,mae_rf,mae_xgb],\n",
    "        'MSE'  : [mse_knn,mse_rf,mse_xgb],\n",
    "        'Recall': [recall_knn,recall_rf,recall_xgb]\n",
    "    })\n",
    "  \n",
    "print(compare_models)"
   ]
  },
  {
   "cell_type": "code",
   "execution_count": 36,
   "metadata": {},
   "outputs": [
    {
     "name": "stdout",
     "output_type": "stream",
     "text": [
      "0        0.938905\n",
      "1        0.938905\n",
      "2        0.939101\n",
      "3        0.938905\n",
      "4        0.938906\n",
      "5        0.938905\n",
      "6        0.938905\n",
      "7        0.938563\n",
      "8        0.951546\n"
     ]
    }
   ],
   "source": [
    "for i in range(X_test.shape[1]):\n",
    "    X = X_test[:, i].reshape(-1, 1)\n",
    "    scores = cross_val_score(model_rf, X, preds_rf, cv=3)\n",
    "    print(f'{i}        {scores.mean():g}')"
   ]
  },
  {
   "cell_type": "markdown",
   "metadata": {},
   "source": [
    "# Escenario 2 <a name='escenario2' />\n",
    "\n",
    "## TIPOUSUARIO = 'PF'"
   ]
  },
  {
   "cell_type": "code",
   "execution_count": 37,
   "metadata": {},
   "outputs": [
    {
     "name": "stdout",
     "output_type": "stream",
     "text": [
      "<class 'pandas.core.frame.DataFrame'>\n",
      "Int64Index: 266142 entries, 0 to 368196\n",
      "Data columns (total 7 columns):\n",
      " #   Column          Non-Null Count   Dtype   \n",
      "---  ------          --------------   -----   \n",
      " 0   CANAL_REGISTRO  266142 non-null  category\n",
      " 1   IND_CLIENTE     266142 non-null  int64   \n",
      " 2   TIPOEMAIL       266142 non-null  category\n",
      " 3   IPCASOS         266142 non-null  int64   \n",
      " 4   BONDAD_EMAIL    266142 non-null  category\n",
      " 5   IP_Country      266142 non-null  category\n",
      " 6   PROMOPROD       266142 non-null  int64   \n",
      "dtypes: category(4), int64(3)\n",
      "memory usage: 9.1 MB\n"
     ]
    }
   ],
   "source": [
    "df2 = data_consum[['IDUSUARIO', 'IDGRUPOPROD']]\n",
    "df2['IDGRUPOPROD'] = np.where(df2['IDGRUPOPROD'] == 144917, 'promo'\n",
    "        , np.where(df2['IDGRUPOPROD'] == 144920, 'promo'\n",
    "                  , 'pago'))\n",
    "\n",
    "df_filter2  = pd.DataFrame(df2.groupby(by=['IDUSUARIO','IDGRUPOPROD'],as_index=False)['IDUSUARIO'].size())\n",
    "df2 = df_filter2[df_filter2['IDGRUPOPROD'] == 'promo']\n",
    "df2 = df2.rename(columns={'size':'PROMOPROD'})\n",
    "\n",
    "df_merge2 = pd.merge(data_user,df2, on='IDUSUARIO')\n",
    "\n",
    "df_merge2 = df_merge2[df_merge2['TIPOUSUARIO'] == 'PF'] #Cambio esencial en este escenario\n",
    "\n",
    "dset2 = df_merge2[['CANAL_REGISTRO','IND_CLIENTE','TIPOEMAIL','IPCASOS'\n",
    "                , 'BONDAD_EMAIL','IP_Country', 'PROMOPROD']]\n",
    "\n",
    "dset2['CANAL_REGISTRO'] = dset2['CANAL_REGISTRO'].astype('category')\n",
    "\n",
    "dset2['BONDAD_EMAIL'] = dset2['BONDAD_EMAIL'].astype('category')\n",
    "\n",
    "dset2['IP_Country'] = dset2['IP_Country'].astype('category')\n",
    "dset2['IP_Country'] = dset2['IP_Country'].cat.codes\n",
    "dset2['IP_Country'] = dset2['IP_Country'].astype('category')\n",
    "\n",
    "dset2['TIPOEMAIL'] = dset2['TIPOEMAIL'].astype('category')\n",
    "dset2['TIPOEMAIL'] = dset2['TIPOEMAIL'].cat.codes\n",
    "dset2['TIPOEMAIL'] = dset2['TIPOEMAIL'].astype('category')\n",
    "\n",
    "\n",
    "dset2 = dset2.apply(lambda x: x.fillna(x.value_counts().index[0]))\n",
    "\n",
    "dset2.info()\n",
    "\n",
    "\n"
   ]
  },
  {
   "cell_type": "code",
   "execution_count": 38,
   "metadata": {},
   "outputs": [],
   "source": [
    "X2 = dset2.iloc[:,[0,2,3,4,5,6]]\n",
    "Y2 = dset2.iloc[:,[1]] \n",
    "\n",
    "X2 = StandardScaler().fit_transform(X2)\n",
    " \n",
    "# Separamos los datos en train y test\n",
    "\n",
    "X_train2, X_test2, y_train2, y_test2 = train_test_split(X2, Y2, test_size=0.2)\n",
    "\n",
    "# print('Disponemos de {} datos para entrenamiento y {} datos para prueba'.format(X_train.shape[0], X_test.shape[0]))\n",
    "\n",
    "sm2 = SMOTE(sampling_strategy='minority', random_state=7)\n",
    "\n",
    "oversampled_trainX2, oversampled_trainY2 = sm2.fit_sample(X_train2,  y_train2)\n",
    "oversampled_train2 = pd.concat([pd.DataFrame(oversampled_trainY2), pd.DataFrame(oversampled_trainX2)], axis=1)\n",
    "\n",
    "param_grid_knn2 = {\"n_neighbors\": range(1, 11), \"weights\": [\"uniform\", \"distance\"]}\n",
    "\n",
    "grid_search_knn2 = GridSearchCV(KNeighborsClassifier(), param_grid=param_grid_knn2, cv=4)\n",
    "\n",
    "grid_search_knn2.fit(oversampled_trainX2, oversampled_trainY2)\n",
    "\n",
    "bp_knn2 = grid_search_knn2.best_params_\n",
    "model_knn2 = KNeighborsClassifier(n_neighbors=bp_knn2['n_neighbors'], weights=bp_knn2['weights'])\n",
    "model_knn2.fit(oversampled_trainX2, oversampled_trainY2)\n",
    "\n",
    "preds_knn2 = model_knn2.predict(X_test2)\n",
    "\n",
    "param_grid_rf2 = {\"max_depth\": range(6, 13), \"n_estimators\": [10, 50, 100, 200]}\n",
    "\n",
    "grid_search_rf2 = GridSearchCV(RandomForestClassifier(), param_grid=param_grid_rf2, cv=4)\n",
    "grid_search_rf2.fit(oversampled_trainX2, oversampled_trainY2)\n",
    "\n",
    "bp_rf2 = grid_search_rf2.best_params_\n",
    "model_rf2 = RandomForestClassifier(max_depth=bp_rf2['max_depth'], n_estimators=bp_rf2['n_estimators'])\n",
    "model_rf2.fit(oversampled_trainX2, oversampled_trainY2)\n",
    "\n",
    "preds_rf2 = model_rf2.predict(X_test2)\n",
    "\n",
    "param_grid_xgb2 = {\n",
    "                    'min_child_weight': [1, 5, 10],\n",
    "                    'gamma': [0.5, 1, 1.5, 2, 5],\n",
    "                    'subsample': [0.6, 0.8, 1.0],\n",
    "                    'colsample_bytree': [0.6, 0.8, 1.0],\n",
    "                    'max_depth': [3, 4, 5]\n",
    "                    }\n",
    "\n",
    "grid_search_xgb2 = GridSearchCV(xgb.XGBRegressor(), param_grid=param_grid_xgb2, cv=4)\n",
    "grid_search_xgb2.fit(oversampled_trainX2, oversampled_trainY2)\n",
    "\n",
    "bp_xgb2 = grid_search_xgb2.best_params_\n",
    "model_xgb2 = xgb.XGBRegressor(\n",
    "                    min_child_weight= bp_xgb2['min_child_weight'],\n",
    "                    gamma= bp_xgb2['gamma'],\n",
    "                    subsample= bp_xgb2['subsample'],\n",
    "                    colsample_bytree=  bp_xgb2['colsample_bytree'],\n",
    "                    max_depth= bp_xgb2['max_depth'])\n",
    "\n",
    "model_xgb2.fit(oversampled_trainX2, oversampled_trainY2)\n",
    "\n",
    "preds_xgb2 = model_xgb2.predict(X_test2)"
   ]
  },
  {
   "cell_type": "markdown",
   "metadata": {},
   "source": [
    "## Resultados escenario 2 <a name='resultados2' />"
   ]
  },
  {
   "cell_type": "code",
   "execution_count": 154,
   "metadata": {},
   "outputs": [
    {
     "name": "stdout",
     "output_type": "stream",
     "text": [
      "          Model     Score       MAE       MSE    Recall\n",
      "0           Knn  0.971764  0.028236  0.028236  0.219512\n",
      "1  RandomForest  0.900618  0.099382  0.099382  0.695122\n",
      "2           XGB  0.943922  0.129298  0.046321  0.508130\n"
     ]
    }
   ],
   "source": [
    "ac_knn2 = accuracy_score(y_test2, preds_knn2)\n",
    "ac_rf2 = accuracy_score(y_test2, preds_rf2)\n",
    "ac_xgb2 = accuracy_score(y_test2, preds_xgb2.round())\n",
    "\n",
    "mae_knn2 = mean_absolute_error(y_test2, preds_knn2)\n",
    "mae_rf2 = mean_absolute_error(y_test2, preds_rf2)\n",
    "mae_xgb2 = mean_absolute_error(y_test2, preds_xgb2)\n",
    "                              \n",
    "mse_knn2 = mean_squared_error(y_test2, preds_knn2)  \n",
    "mse_rf2 = mean_squared_error(y_test2, preds_rf2)\n",
    "mse_xgb2 = mean_squared_error(y_test2, preds_xgb2)\n",
    "\n",
    "recall_knn2 = recall_score(y_test2,preds_knn2)\n",
    "recall_rf2 = recall_score(y_test2,preds_rf2)\n",
    "recall_xgb2 = recall_score(y_test2,preds_xgb2.round())\n",
    "# recall_xgb2 = 0\n",
    "\n",
    "\n",
    "compare_models2 = pd.DataFrame(\n",
    "    {  'Model' : ['Knn', 'RandomForest','XGB'],\n",
    "       'Score' : [ac_knn2,ac_rf2,ac_xgb2],\n",
    "        'MAE'  : [mae_knn2,mae_rf2,mae_xgb2],\n",
    "        'MSE'  : [mse_knn2,mse_rf2,mse_xgb2],\n",
    "        'Recall': [recall_knn2,recall_rf2,recall_xgb2]\n",
    "    })\n",
    "  \n",
    "print(compare_models2)"
   ]
  },
  {
   "cell_type": "code",
   "execution_count": 40,
   "metadata": {},
   "outputs": [
    {
     "name": "stdout",
     "output_type": "stream",
     "text": [
      "0        0.974356\n",
      "1        0.974356\n",
      "2        0.974281\n",
      "3        0.974356\n",
      "4        0.974337\n",
      "5        0.974149\n"
     ]
    }
   ],
   "source": [
    "for i in range(X_test2.shape[1]):\n",
    "    X = X_test2[:, i].reshape(-1, 1)\n",
    "    scores = cross_val_score(model_knn2, X, preds_knn2, cv=3)\n",
    "    print(f'{i}        {scores.mean():g}')"
   ]
  },
  {
   "cell_type": "markdown",
   "metadata": {},
   "source": [
    "# Escenario 3 <a name='escenario3' />\n",
    "\n",
    "## Sin separar por tipo de usuario"
   ]
  },
  {
   "cell_type": "code",
   "execution_count": 160,
   "metadata": {},
   "outputs": [
    {
     "name": "stdout",
     "output_type": "stream",
     "text": [
      "<class 'pandas.core.frame.DataFrame'>\n",
      "Int64Index: 368197 entries, 0 to 368196\n",
      "Data columns (total 8 columns):\n",
      " #   Column          Non-Null Count   Dtype   \n",
      "---  ------          --------------   -----   \n",
      " 0   TIPOUSUARIO     368197 non-null  category\n",
      " 1   CANAL_REGISTRO  368197 non-null  category\n",
      " 2   IND_CLIENTE     368197 non-null  int64   \n",
      " 3   TIPOEMAIL       368197 non-null  category\n",
      " 4   IPCASOS         368197 non-null  int64   \n",
      " 5   BONDAD_EMAIL    368197 non-null  category\n",
      " 6   IP_Country      368197 non-null  category\n",
      " 7   PROMOPROD       368197 non-null  int64   \n",
      "dtypes: category(5), int64(3)\n",
      "memory usage: 13.0 MB\n"
     ]
    }
   ],
   "source": [
    "df3 = data_consum[['IDUSUARIO', 'IDGRUPOPROD']]\n",
    "df3['IDGRUPOPROD'] = np.where(df3['IDGRUPOPROD'] == 144917, 'promo'\n",
    "        , np.where(df3['IDGRUPOPROD'] == 144920, 'promo'\n",
    "                  , 'pago'))\n",
    "\n",
    "df_filter3  = pd.DataFrame(df3.groupby(by=['IDUSUARIO','IDGRUPOPROD'],as_index=False)['IDUSUARIO'].size())\n",
    "df3 = df_filter3[df_filter3['IDGRUPOPROD'] == 'promo']\n",
    "df3 = df3.rename(columns={'size':'PROMOPROD'})\n",
    "\n",
    "df_merge3 = pd.merge(data_user,df3, on='IDUSUARIO')\n",
    "\n",
    "# df_merge3 = df_merge3[df_merge3['TIPOUSUARIO'] == 'PF'] #Cambio esencial en este escenario\n",
    "\n",
    "dset3 = df_merge3[['TIPOUSUARIO','CANAL_REGISTRO','IND_CLIENTE','TIPOEMAIL','IPCASOS'\n",
    "                , 'BONDAD_EMAIL','IP_Country', 'PROMOPROD']]\n",
    "\n",
    "dset3['CANAL_REGISTRO'] = dset3['CANAL_REGISTRO'].astype('category')\n",
    "\n",
    "dset3['BONDAD_EMAIL'] = dset3['BONDAD_EMAIL'].astype('category')\n",
    "\n",
    "dset3['TIPOUSUARIO'] = dset3['TIPOUSUARIO'].astype('category')\n",
    "dset3['TIPOUSUARIO'] = dset3['TIPOUSUARIO'].cat.codes\n",
    "dset3['TIPOUSUARIO'] = dset3['TIPOUSUARIO'].astype('category')\n",
    "\n",
    "dset3['IP_Country'] = dset3['IP_Country'].astype('category')\n",
    "dset3['IP_Country'] = dset3['IP_Country'].cat.codes\n",
    "dset3['IP_Country'] = dset3['IP_Country'].astype('category')\n",
    "\n",
    "dset3['TIPOEMAIL'] = dset3['TIPOEMAIL'].astype('category')\n",
    "dset3['TIPOEMAIL'] = dset3['TIPOEMAIL'].cat.codes\n",
    "dset3['TIPOEMAIL'] = dset3['TIPOEMAIL'].astype('category')\n",
    "\n",
    "\n",
    "dset3 = dset3.apply(lambda x: x.fillna(x.value_counts().index[0]))\n",
    "\n",
    "dset3.info()\n",
    "\n",
    "\n"
   ]
  },
  {
   "cell_type": "code",
   "execution_count": 42,
   "metadata": {},
   "outputs": [],
   "source": [
    "X3 = dset3.iloc[:,[0,1,3,4,5,6,7]]\n",
    "Y3 = dset3.iloc[:,[2]] \n",
    "\n",
    "X3 = StandardScaler().fit_transform(X3)\n",
    " \n",
    "# Separamos los datos en train y test\n",
    "\n",
    "X_train3, X_test3, y_train3, y_test3 = train_test_split(X3, Y3, test_size=0.2)\n",
    "\n",
    "# print('Disponemos de {} datos para entrenamiento y {} datos para prueba'.format(X_train.shape[0], X_test.shape[0]))\n",
    "\n",
    "sm3 = SMOTE(sampling_strategy='minority', random_state=7)\n",
    "\n",
    "oversampled_trainX3, oversampled_trainY3 = sm3.fit_sample(X_train3,  y_train3)\n",
    "oversampled_train3 = pd.concat([pd.DataFrame(oversampled_trainY3), pd.DataFrame(oversampled_trainX3)], axis=1)\n",
    "\n",
    "param_grid_knn3 = {\"n_neighbors\": range(1, 11), \"weights\": [\"uniform\", \"distance\"]}\n",
    "\n",
    "grid_search_knn3 = GridSearchCV(KNeighborsClassifier(), param_grid=param_grid_knn3, cv=4)\n",
    "\n",
    "grid_search_knn3.fit(oversampled_trainX3, oversampled_trainY3)\n",
    "\n",
    "bp_knn3 = grid_search_knn3.best_params_\n",
    "model_knn3 = KNeighborsClassifier(n_neighbors=bp_knn3['n_neighbors'], weights=bp_knn3['weights'])\n",
    "model_knn3.fit(oversampled_trainX3, oversampled_trainY3)\n",
    "\n",
    "preds_knn3 = model_knn3.predict(X_test3)\n",
    "\n",
    "param_grid_rf3 = {\"max_depth\": range(6, 13), \"n_estimators\": [10, 50, 100, 200]}\n",
    "\n",
    "grid_search_rf3 = GridSearchCV(RandomForestClassifier(), param_grid=param_grid_rf3, cv=4)\n",
    "grid_search_rf3.fit(oversampled_trainX3, oversampled_trainY3)\n",
    "\n",
    "bp_rf3 = grid_search_rf3.best_params_\n",
    "model_rf3 = RandomForestClassifier(max_depth=bp_rf3['max_depth'], n_estimators=bp_rf3['n_estimators'])\n",
    "model_rf3.fit(oversampled_trainX3, oversampled_trainY3)\n",
    "\n",
    "preds_rf3 = model_rf3.predict(X_test3)\n",
    "\n",
    "param_grid_xgb3 = {\n",
    "                    'min_child_weight': [1, 5, 10],\n",
    "                    'gamma': [0.5, 1, 1.5, 2, 5],\n",
    "                    'subsample': [0.6, 0.8, 1.0],\n",
    "                    'colsample_bytree': [0.6, 0.8, 1.0],\n",
    "                    'max_depth': [3, 4, 5]\n",
    "                    }\n",
    "\n",
    "grid_search_xgb3 = GridSearchCV(xgb.XGBRegressor(), param_grid=param_grid_xgb3, cv=4)\n",
    "grid_search_xgb3.fit(oversampled_trainX3, oversampled_trainY3)\n",
    "\n",
    "bp_xgb3 = grid_search_xgb3.best_params_\n",
    "model_xgb3 = xgb.XGBRegressor(\n",
    "                    min_child_weight= bp_xgb3['min_child_weight'],\n",
    "                    gamma= bp_xgb3['gamma'],\n",
    "                    subsample= bp_xgb3['subsample'],\n",
    "                    colsample_bytree=  bp_xgb3['colsample_bytree'],\n",
    "                    max_depth= bp_xgb3['max_depth'])\n",
    "\n",
    "model_xgb3.fit(oversampled_trainX3, oversampled_trainY3)\n",
    "\n",
    "preds_xgb3 = model_xgb3.predict(X_test3)"
   ]
  },
  {
   "cell_type": "markdown",
   "metadata": {},
   "source": [
    "## Resultados escenario 3 <a name='resultados3' />"
   ]
  },
  {
   "cell_type": "code",
   "execution_count": 163,
   "metadata": {},
   "outputs": [
    {
     "name": "stdout",
     "output_type": "stream",
     "text": [
      "          Model     Score       MAE       MSE    Recall\n",
      "0           Knn  0.973778  0.026222  0.026222  0.314229\n",
      "1  RandomForest  0.901236  0.098764  0.098764  0.750988\n",
      "2           XGB  0.943971  0.127533  0.044936  0.508130\n"
     ]
    }
   ],
   "source": [
    "ac_knn3 = accuracy_score(y_test3, preds_knn3)\n",
    "ac_rf3 = accuracy_score(y_test3, preds_rf3)\n",
    "ac_xgb3 = accuracy_score(y_test3, preds_xgb3.round())\n",
    "\n",
    "mae_knn3 = mean_absolute_error(y_test3, preds_knn3)\n",
    "mae_rf3 = mean_absolute_error(y_test3, preds_rf3)\n",
    "mae_xgb3 = mean_absolute_error(y_test3, preds_xgb3)\n",
    "                              \n",
    "mse_knn3 = mean_squared_error(y_test3, preds_knn3)  \n",
    "mse_rf3 = mean_squared_error(y_test3, preds_rf3)\n",
    "mse_xgb3 = mean_squared_error(y_test3, preds_xgb3)\n",
    "\n",
    "recall_knn3 = recall_score(y_test3,preds_knn3)\n",
    "recall_rf3 = recall_score(y_test3,preds_rf3)\n",
    "recall_xgb3 = recall_score(y_test2,preds_xgb2.round())\n",
    "\n",
    "\n",
    "compare_models3 = pd.DataFrame(\n",
    "    {  'Model' : ['Knn', 'RandomForest','XGB'],\n",
    "       'Score' : [ac_knn3,ac_rf3,ac_xgb3],\n",
    "        'MAE'  : [mae_knn3,mae_rf3,mae_xgb3],\n",
    "        'MSE'  : [mse_knn3,mse_rf3,mse_xgb3],\n",
    "        'Recall': [recall_knn3,recall_rf3,recall_xgb3]\n",
    "    })\n",
    "  \n",
    "print(compare_models3)"
   ]
  },
  {
   "cell_type": "markdown",
   "metadata": {},
   "source": [
    "## Escenario 4 <a name = 'escenario4' />"
   ]
  },
  {
   "cell_type": "code",
   "execution_count": 45,
   "metadata": {},
   "outputs": [
    {
     "name": "stdout",
     "output_type": "stream",
     "text": [
      "<class 'pandas.core.frame.DataFrame'>\n",
      "Int64Index: 102066 entries, 1 to 368179\n",
      "Data columns (total 12 columns):\n",
      " #   Column          Non-Null Count   Dtype   \n",
      "---  ------          --------------   -----   \n",
      " 0   CANAL_REGISTRO  102066 non-null  category\n",
      " 1   IND_CLIENTE     102066 non-null  int64   \n",
      " 2   TIPOEMAIL       102066 non-null  category\n",
      " 3   BONDAD_EMAIL    102066 non-null  category\n",
      " 4   IPCASOS         102066 non-null  int64   \n",
      " 5   IP_Country      102066 non-null  category\n",
      " 6   USU_TIPO        102066 non-null  category\n",
      " 7   USU_TAMANIO     102066 non-null  category\n",
      " 8   USU_CIIU        102066 non-null  category\n",
      " 9   PROMOPROD       102066 non-null  int64   \n",
      " 10  FICHASCONSUM    102066 non-null  int64   \n",
      " 11  DIASCONSUM      102066 non-null  int64   \n",
      "dtypes: category(7), int64(5)\n",
      "memory usage: 5.4 MB\n"
     ]
    }
   ],
   "source": [
    "df_user = data_user[['IDUSUARIO','CANAL_REGISTRO', 'TIPOUSUARIO','IND_CLIENTE','TIPOEMAIL'\n",
    "                     ,'BONDAD_EMAIL','IPCASOS','IP_Country','USU_TIPO','USU_TAMANIO','USU_CIIU']]\n",
    "\n",
    "df_user['USU_CIIU'] = df_user['USU_CIIU'].str[0:1]\n",
    "\n",
    "df_user['CANAL_REGISTRO'] = df_user['CANAL_REGISTRO'].astype('category')\n",
    "\n",
    "df_user['BONDAD_EMAIL'] = df_user['BONDAD_EMAIL'].astype('category')\n",
    "\n",
    "df_user['IP_Country'] = df_user['IP_Country'].astype('category')\n",
    "df_user['IP_Country'] = df_user['IP_Country'].cat.codes\n",
    "df_user['IP_Country'] = df_user['IP_Country'].astype('category')\n",
    "\n",
    "df_user['TIPOEMAIL'] = df_user['TIPOEMAIL'].astype('category')\n",
    "df_user['TIPOEMAIL'] = df_user['TIPOEMAIL'].cat.codes\n",
    "df_user['TIPOEMAIL'] = df_user['TIPOEMAIL'].astype('category')\n",
    "\n",
    "df_user['USU_TIPO'] = df_user['USU_TIPO'].astype('category')\n",
    "df_user['USU_TIPO'] = df_user['USU_TIPO'].cat.codes\n",
    "df_user['USU_TIPO'] = df_user['USU_TIPO'].astype('category')\n",
    "\n",
    "df_user['USU_TAMANIO'] = df_user['USU_TAMANIO'].astype('category')\n",
    "df_user['USU_TAMANIO'] = df_user['USU_TAMANIO'].cat.codes\n",
    "df_user['USU_TAMANIO'] = df_user['USU_TAMANIO'].astype('category')\n",
    "\n",
    "df_user['USU_CIIU'] = df_user['USU_CIIU'].astype('category')\n",
    "df_user['USU_CIIU'] = df_user['USU_CIIU'].cat.codes\n",
    "df_user['USU_CIIU'] = df_user['USU_CIIU'].astype('category')\n",
    "\n",
    "df_user = df_user.apply(lambda x: x.fillna(x.value_counts().index[0]))\n",
    "\n",
    "df_consum = data_consum[['IDUSUARIO', 'IDGRUPOPROD']]\n",
    "df_consum['IDGRUPOPROD'] = np.where(df_consum['IDGRUPOPROD'] == 144917, 'promo'\n",
    "                        , np.where(df_consum['IDGRUPOPROD'] == 144920, 'promo'\n",
    "                              , 'pago'))\n",
    "\n",
    "df_promoprod  = pd.DataFrame(df_consum.groupby(by=['IDUSUARIO','IDGRUPOPROD'],as_index=False)['IDUSUARIO'].size())\n",
    "df_promoprod = df_promoprod[df_promoprod['IDGRUPOPROD'] == 'promo']\n",
    "df_promoprod = df_promoprod.rename(columns={'size':'PROMOPROD'})\n",
    "\n",
    "df_user = pd.merge(df_user,df_promoprod,how = 'left',on = 'IDUSUARIO' )\n",
    "\n",
    "df_consum = data_consum[['IDUSUARIO','FECHACONSUMO']]\n",
    "\n",
    "df_fichas = df_consum.groupby(by=['IDUSUARIO'],as_index=False)['IDUSUARIO'].size()\n",
    "df_fichas = df_fichas.rename(columns={'size':'FICHASCONSUM'})\n",
    "\n",
    "df_user = pd.merge(df_user,df_fichas[['IDUSUARIO','FICHASCONSUM']], how='left', on='IDUSUARIO')\n",
    "\n",
    "df_dias = df_consum.groupby(by=['IDUSUARIO','FECHACONSUMO'],as_index=False)['IDUSUARIO'].size()\n",
    "df_dias = df_dias.groupby(by=['IDUSUARIO'],as_index=False)['IDUSUARIO'].size()\n",
    "df_dias = df_dias.rename(columns={'size':'DIASCONSUM'})\n",
    "df_user = pd.merge(df_user,df_dias[['IDUSUARIO','DIASCONSUM']], how='left', on = 'IDUSUARIO')\n",
    "\n",
    "df_user['PROMOPROD'] = df_user['PROMOPROD'].fillna(0)\n",
    "df_user['FICHASCONSUM'] = df_user['FICHASCONSUM'].fillna(0)\n",
    "df_user['DIASCONSUM'] = df_user['DIASCONSUM'].fillna(0)\n",
    "\n",
    "df_user['PROMOPROD'] = df_user['PROMOPROD'].astype('int64')\n",
    "df_user['FICHASCONSUM'] = df_user['FICHASCONSUM'].astype('int64')\n",
    "df_user['DIASCONSUM'] = df_user['DIASCONSUM'].astype('int64')\n",
    "\n",
    "df_user = df_user[df_user['TIPOUSUARIO'] != 'PF']\n",
    "\n",
    "df_user = df_user[['CANAL_REGISTRO','IND_CLIENTE','TIPOEMAIL','BONDAD_EMAIL','IPCASOS','IP_Country'\n",
    "                   ,'USU_TIPO','USU_TAMANIO','USU_CIIU','PROMOPROD','FICHASCONSUM','DIASCONSUM']]\n",
    "\n",
    "df_user.info()"
   ]
  },
  {
   "cell_type": "code",
   "execution_count": 46,
   "metadata": {},
   "outputs": [
    {
     "name": "stdout",
     "output_type": "stream",
     "text": [
      "La variable CANAL_REGISTRO es Independent (fail to reject H0) con chisq_pv.\n",
      "\n",
      "La variable IND_CLIENTE es Independent (fail to reject H0) con chisq_pv.\n",
      "\n",
      "La variable TIPOEMAIL es Independent (fail to reject H0) con chisq_pv.\n",
      "\n",
      "La variable BONDAD_EMAIL es Independent (fail to reject H0) con chisq_pv.\n",
      "\n",
      "La variable IPCASOS es Independent (fail to reject H0) con chisq_pv.\n",
      "\n",
      "La variable IP_Country es Independent (fail to reject H0) con chisq_pv.\n",
      "\n",
      "La variable USU_TIPO es Independent (fail to reject H0) con chisq_pv.\n",
      "\n",
      "La variable USU_TAMANIO es Independent (fail to reject H0) con chisq_pv.\n",
      "\n",
      "La variable USU_CIIU es Independent (fail to reject H0) con chisq_pv.\n",
      "\n",
      "La variable PROMOPROD es Independent (fail to reject H0) con chisq_pv.\n",
      "\n",
      "La variable FICHASCONSUM es Independent (fail to reject H0) con chisq_pv.\n",
      "\n",
      "La variable DIASCONSUM es Independent (fail to reject H0) con chisq_pv.\n",
      "\n"
     ]
    }
   ],
   "source": [
    "dataset = df_user   #/* DataFrame a analizar */\n",
    "columns_v = dataset.columns.values\n",
    "\n",
    "for col in columns_v:\n",
    "    print('La variable {} es {} con chisq_pv.\\n'.format(col,fn_chisq_pv(dataset,dataset[col])))"
   ]
  },
  {
   "cell_type": "code",
   "execution_count": 47,
   "metadata": {},
   "outputs": [],
   "source": [
    "X4 = df_user.iloc[:,[0,2,3,4,5,6,7,8,9,10,11]]\n",
    "Y4 = df_user.iloc[:,[1]] \n",
    "\n",
    "X4 = StandardScaler().fit_transform(X4)\n",
    " \n",
    "# Separamos los datos en train y test\n",
    "\n",
    "X_train4, X_test4, y_train4, y_test4 = train_test_split(X4, Y4, test_size=0.2)\n",
    "\n",
    "# print('Disponemos de {} datos para entrenamiento y {} datos para prueba'.format(X_train.shape[0], X_test.shape[0]))\n",
    "\n",
    "sm4 = SMOTE(sampling_strategy='minority', random_state=7)\n",
    "\n",
    "oversampled_trainX4, oversampled_trainY4 = sm4.fit_sample(X_train4,  y_train4)\n",
    "oversampled_train4 = pd.concat([pd.DataFrame(oversampled_trainY4), pd.DataFrame(oversampled_trainX4)], axis=1)\n",
    "\n",
    "param_grid_knn4 = {\"n_neighbors\": range(1, 11), \"weights\": [\"uniform\", \"distance\"]}\n",
    "\n",
    "grid_search_knn4 = GridSearchCV(KNeighborsClassifier(), param_grid=param_grid_knn4, cv=4)\n",
    "\n",
    "grid_search_knn4.fit(oversampled_trainX4, oversampled_trainY4)\n",
    "\n",
    "bp_knn4 = grid_search_knn4.best_params_\n",
    "model_knn4 = KNeighborsClassifier(n_neighbors=bp_knn4['n_neighbors'], weights=bp_knn4['weights'])\n",
    "model_knn4.fit(oversampled_trainX4, oversampled_trainY4)\n",
    "\n",
    "preds_knn4 = model_knn4.predict(X_test4)\n",
    "\n",
    "param_grid_rf4 = {\"max_depth\": range(6, 14), \"n_estimators\": [10, 50, 100, 200]}\n",
    "\n",
    "grid_search_rf4 = GridSearchCV(RandomForestClassifier(), param_grid=param_grid_rf4, cv=4)\n",
    "grid_search_rf4.fit(oversampled_trainX4, oversampled_trainY4)\n",
    "\n",
    "bp_rf4 = grid_search_rf4.best_params_\n",
    "model_rf4 = RandomForestClassifier(max_depth=bp_rf4['max_depth'], n_estimators=bp_rf4['n_estimators'])\n",
    "model_rf4.fit(oversampled_trainX4, oversampled_trainY4)\n",
    "\n",
    "preds_rf4 = model_rf4.predict(X_test4)\n",
    "\n",
    "param_grid_xgb4 = {\n",
    "                    'min_child_weight': [1, 5, 10],\n",
    "                    'gamma': [0.5, 1, 1.5, 2, 5],\n",
    "                    'subsample': [0.6, 0.8, 1.0],\n",
    "                    'colsample_bytree': [0.6, 0.8, 1.0],\n",
    "                    'max_depth': [4, 4, 5]\n",
    "                    }\n",
    "\n",
    "grid_search_xgb4 = GridSearchCV(xgb.XGBRegressor(), param_grid=param_grid_xgb4, cv=4)\n",
    "grid_search_xgb4.fit(oversampled_trainX4, oversampled_trainY4)\n",
    "\n",
    "bp_xgb4 = grid_search_xgb4.best_params_\n",
    "model_xgb4 = xgb.XGBRegressor(\n",
    "                    min_child_weight= bp_xgb4['min_child_weight'],\n",
    "                    gamma= bp_xgb4['gamma'],\n",
    "                    subsample= bp_xgb4['subsample'],\n",
    "                    colsample_bytree=  bp_xgb4['colsample_bytree'],\n",
    "                    max_depth= bp_xgb4['max_depth'])\n",
    "\n",
    "model_xgb4.fit(oversampled_trainX4, oversampled_trainY4)\n",
    "\n",
    "preds_xgb4 = model_xgb4.predict(X_test4)"
   ]
  },
  {
   "cell_type": "code",
   "execution_count": 105,
   "metadata": {},
   "outputs": [
    {
     "name": "stdout",
     "output_type": "stream",
     "text": [
      "Accuracy: 99.80%\n"
     ]
    }
   ],
   "source": [
    "# predictions = [round(value) for value in preds_xgb4]\n",
    "accuracy = accuracy_score(y_test4, preds_xgb4.round())\n",
    "print(\"Accuracy: %.2f%%\" % (accuracy * 100.0))\n"
   ]
  },
  {
   "cell_type": "code",
   "execution_count": 107,
   "metadata": {},
   "outputs": [
    {
     "name": "stdout",
     "output_type": "stream",
     "text": [
      "          Model     Score       MAE       MSE    Recall\n",
      "0           Knn  0.978789  0.021211  0.021211  0.380471\n",
      "1  RandomForest  0.981679  0.018321  0.018321  0.925926\n",
      "2           XGB  0.998041  0.012129  0.002595  0.922559\n"
     ]
    }
   ],
   "source": [
    "ac_knn4 = accuracy_score(y_test4, preds_knn4)\n",
    "ac_rf4 = accuracy_score(y_test4, preds_rf4)\n",
    "ac_xgb4 = accuracy_score(y_test4, preds_xgb4.round())\n",
    "\n",
    "mae_knn4 = mean_absolute_error(y_test4, preds_knn4)\n",
    "mae_rf4 = mean_absolute_error(y_test4, preds_rf4)\n",
    "mae_xgb4 = mean_absolute_error(y_test4, preds_xgb4)\n",
    "                              \n",
    "mse_knn4 = mean_squared_error(y_test4, preds_knn4)  \n",
    "mse_rf4 = mean_squared_error(y_test4, preds_rf4)\n",
    "mse_xgb4 = mean_squared_error(y_test4, preds_xgb4)\n",
    "\n",
    "recall_knn4 = recall_score(y_test4,preds_knn4)\n",
    "recall_rf4 = recall_score(y_test4,preds_rf4)\n",
    "recall_xgb4 = recall_score(y_test4,preds_xgb4.round())\n",
    "\n",
    "# compare_models4 = pd.DataFrame(\n",
    "#     {  'Model' : ['Knn', 'RandomForest','XGB'],\n",
    "#        'Score' : [model_knn4.score(X_test4,y_test4), model_rf4.score(X_test4,y_test4),model_xgb4.score(X_test4,y_test4)],\n",
    "#         'MAE'  : [mae_knn4,mae_rf4,mae_xgb4],\n",
    "#         'MSE'  : [mse_knn4,mse_rf4,mse_xgb4],\n",
    "#         'Recall': [recall_knn4,recall_rf4,recall_xgb4]\n",
    "#     })\n",
    "\n",
    "compare_models4 = pd.DataFrame(\n",
    "    {  'Model' : ['Knn', 'RandomForest','XGB'],\n",
    "       'Score' : [ac_knn4,ac_rf4,ac_xgb4],\n",
    "        'MAE'  : [mae_knn4,mae_rf4,mae_xgb4],\n",
    "        'MSE'  : [mse_knn4,mse_rf4,mse_xgb4],\n",
    "        'Recall': [recall_knn4,recall_rf4,recall_xgb4]\n",
    "    })\n",
    "  \n",
    "print(compare_models4)"
   ]
  },
  {
   "cell_type": "markdown",
   "metadata": {},
   "source": [
    "# Escenario 5 <a name='escenario5'>"
   ]
  },
  {
   "cell_type": "code",
   "execution_count": 49,
   "metadata": {},
   "outputs": [
    {
     "name": "stdout",
     "output_type": "stream",
     "text": [
      "<class 'pandas.core.frame.DataFrame'>\n",
      "Int64Index: 266154 entries, 0 to 368219\n",
      "Data columns (total 9 columns):\n",
      " #   Column          Non-Null Count   Dtype   \n",
      "---  ------          --------------   -----   \n",
      " 0   CANAL_REGISTRO  266154 non-null  category\n",
      " 1   IND_CLIENTE     266154 non-null  int64   \n",
      " 2   TIPOEMAIL       266154 non-null  category\n",
      " 3   BONDAD_EMAIL    266154 non-null  category\n",
      " 4   IPCASOS         266154 non-null  int64   \n",
      " 5   IP_Country      266154 non-null  category\n",
      " 6   PROMOPROD       266154 non-null  int64   \n",
      " 7   FICHASCONSUM    266154 non-null  int64   \n",
      " 8   DIASCONSUM      266154 non-null  int64   \n",
      "dtypes: category(4), int64(5)\n",
      "memory usage: 13.2 MB\n"
     ]
    }
   ],
   "source": [
    "df_user = data_user[['IDUSUARIO','CANAL_REGISTRO', 'TIPOUSUARIO','IND_CLIENTE','TIPOEMAIL'\n",
    "                     ,'BONDAD_EMAIL','IPCASOS','IP_Country','USU_TIPO','USU_TAMANIO','USU_CIIU']]\n",
    "\n",
    "df_user['USU_CIIU'] = df_user['USU_CIIU'].str[0:1]\n",
    "\n",
    "df_user['CANAL_REGISTRO'] = df_user['CANAL_REGISTRO'].astype('category')\n",
    "\n",
    "df_user['BONDAD_EMAIL'] = df_user['BONDAD_EMAIL'].astype('category')\n",
    "\n",
    "df_user['IP_Country'] = df_user['IP_Country'].astype('category')\n",
    "df_user['IP_Country'] = df_user['IP_Country'].cat.codes\n",
    "df_user['IP_Country'] = df_user['IP_Country'].astype('category')\n",
    "\n",
    "df_user['TIPOEMAIL'] = df_user['TIPOEMAIL'].astype('category')\n",
    "df_user['TIPOEMAIL'] = df_user['TIPOEMAIL'].cat.codes\n",
    "df_user['TIPOEMAIL'] = df_user['TIPOEMAIL'].astype('category')\n",
    "\n",
    "df_user['USU_TIPO'] = df_user['USU_TIPO'].astype('category')\n",
    "df_user['USU_TIPO'] = df_user['USU_TIPO'].cat.codes\n",
    "df_user['USU_TIPO'] = df_user['USU_TIPO'].astype('category')\n",
    "\n",
    "df_user['USU_TAMANIO'] = df_user['USU_TAMANIO'].astype('category')\n",
    "df_user['USU_TAMANIO'] = df_user['USU_TAMANIO'].cat.codes\n",
    "df_user['USU_TAMANIO'] = df_user['USU_TAMANIO'].astype('category')\n",
    "\n",
    "df_user['USU_CIIU'] = df_user['USU_CIIU'].astype('category')\n",
    "df_user['USU_CIIU'] = df_user['USU_CIIU'].cat.codes\n",
    "df_user['USU_CIIU'] = df_user['USU_CIIU'].astype('category')\n",
    "\n",
    "df_user = df_user.apply(lambda x: x.fillna(x.value_counts().index[0]))\n",
    "\n",
    "df_consum = data_consum[['IDUSUARIO', 'IDGRUPOPROD']]\n",
    "df_consum['IDGRUPOPROD'] = np.where(df_consum['IDGRUPOPROD'] == 144917, 'promo'\n",
    "                        , np.where(df_consum['IDGRUPOPROD'] == 144920, 'promo'\n",
    "                              , 'pago'))\n",
    "\n",
    "df_promoprod  = pd.DataFrame(df_consum.groupby(by=['IDUSUARIO','IDGRUPOPROD'],as_index=False)['IDUSUARIO'].size())\n",
    "df_promoprod = df_promoprod[df_promoprod['IDGRUPOPROD'] == 'promo']\n",
    "df_promoprod = df_promoprod.rename(columns={'size':'PROMOPROD'})\n",
    "\n",
    "df_user = pd.merge(df_user,df_promoprod,how = 'left',on = 'IDUSUARIO' )\n",
    "\n",
    "df_consum = data_consum[['IDUSUARIO','FECHACONSUMO']]\n",
    "\n",
    "df_fichas = df_consum.groupby(by=['IDUSUARIO'],as_index=False)['IDUSUARIO'].size()\n",
    "df_fichas = df_fichas.rename(columns={'size':'FICHASCONSUM'})\n",
    "\n",
    "df_user = pd.merge(df_user,df_fichas[['IDUSUARIO','FICHASCONSUM']], how='left', on='IDUSUARIO')\n",
    "\n",
    "df_dias = df_consum.groupby(by=['IDUSUARIO','FECHACONSUMO'],as_index=False)['IDUSUARIO'].size()\n",
    "df_dias = df_dias.groupby(by=['IDUSUARIO'],as_index=False)['IDUSUARIO'].size()\n",
    "df_dias = df_dias.rename(columns={'size':'DIASCONSUM'})\n",
    "df_user = pd.merge(df_user,df_dias[['IDUSUARIO','DIASCONSUM']], how='left', on = 'IDUSUARIO')\n",
    "\n",
    "df_user['PROMOPROD'] = df_user['PROMOPROD'].fillna(0)\n",
    "df_user['FICHASCONSUM'] = df_user['FICHASCONSUM'].fillna(0)\n",
    "df_user['DIASCONSUM'] = df_user['DIASCONSUM'].fillna(0)\n",
    "\n",
    "df_user['PROMOPROD'] = df_user['PROMOPROD'].astype('int64')\n",
    "df_user['FICHASCONSUM'] = df_user['FICHASCONSUM'].astype('int64')\n",
    "df_user['DIASCONSUM'] = df_user['DIASCONSUM'].astype('int64')\n",
    "\n",
    "df_user = df_user[df_user['TIPOUSUARIO'] == 'PF']\n",
    "\n",
    "# df_user = df_user[['CANAL_REGISTRO','IND_CLIENTE','TIPOEMAIL','BONDAD_EMAIL','IPCASOS','IP_Country'\n",
    "#                    ,'USU_TIPO','USU_TAMANIO','USU_CIIU','PROMOPROD','FICHASCONSUM','DIASCONSUM']]\n",
    "\n",
    "df_user = df_user[['CANAL_REGISTRO','IND_CLIENTE','TIPOEMAIL','BONDAD_EMAIL','IPCASOS','IP_Country'\n",
    "                   ,'PROMOPROD','FICHASCONSUM','DIASCONSUM']]\n",
    "\n",
    "df_user.info()"
   ]
  },
  {
   "cell_type": "code",
   "execution_count": 51,
   "metadata": {},
   "outputs": [],
   "source": [
    "X5 = df_user.iloc[:,[0,2,3,4,5,6,7,8]]\n",
    "Y5 = df_user.iloc[:,[1]] \n",
    "\n",
    "X5 = StandardScaler().fit_transform(X5)\n",
    " \n",
    "# Separamos los datos en train y test\n",
    "\n",
    "X_train5, X_test5, y_train5, y_test5 = train_test_split(X5, Y5, test_size=0.2)\n",
    "\n",
    "# print('Disponemos de {} datos para entrenamiento y {} datos para prueba'.format(X_train.shape[0], X_test.shape[0]))\n",
    "\n",
    "sm5 = SMOTE(sampling_strategy='minority', random_state=7)\n",
    "\n",
    "oversampled_trainX5, oversampled_trainY5 = sm5.fit_sample(X_train5,  y_train5)\n",
    "oversampled_train5 = pd.concat([pd.DataFrame(oversampled_trainY5), pd.DataFrame(oversampled_trainX5)], axis=1)\n",
    "\n",
    "param_grid_knn5 = {\"n_neighbors\": range(1, 11), \"weights\": [\"uniform\", \"distance\"]}\n",
    "\n",
    "grid_search_knn5 = GridSearchCV(KNeighborsClassifier(), param_grid=param_grid_knn5, cv=5)\n",
    "\n",
    "grid_search_knn5.fit(oversampled_trainX5, oversampled_trainY5)\n",
    "\n",
    "bp_knn5 = grid_search_knn5.best_params_\n",
    "model_knn5 = KNeighborsClassifier(n_neighbors=bp_knn5['n_neighbors'], weights=bp_knn5['weights'])\n",
    "model_knn5.fit(oversampled_trainX5, oversampled_trainY5)\n",
    "\n",
    "preds_knn5 = model_knn5.predict(X_test5)\n",
    "\n",
    "param_grid_rf5 = {\"max_depth\": range(6, 15), \"n_estimators\": [10, 50, 100, 200]}\n",
    "\n",
    "grid_search_rf5 = GridSearchCV(RandomForestClassifier(), param_grid=param_grid_rf5, cv=5)\n",
    "grid_search_rf5.fit(oversampled_trainX5, oversampled_trainY5)\n",
    "\n",
    "bp_rf5 = grid_search_rf5.best_params_\n",
    "model_rf5 = RandomForestClassifier(max_depth=bp_rf5['max_depth'], n_estimators=bp_rf5['n_estimators'])\n",
    "model_rf5.fit(oversampled_trainX5, oversampled_trainY5)\n",
    "\n",
    "preds_rf5 = model_rf5.predict(X_test5)\n",
    "\n",
    "param_grid_xgb5 = {\n",
    "                    'min_child_weight': [1, 5, 10],\n",
    "                    'gamma': [0.5, 1, 1.5, 2, 5],\n",
    "                    'subsample': [0.6, 0.8, 1.0],\n",
    "                    'colsample_bytree': [0.6, 0.8, 1.0],\n",
    "                    'max_depth': [5, 5, 5]\n",
    "                    }\n",
    "\n",
    "grid_search_xgb5 = GridSearchCV(xgb.XGBRegressor(), param_grid=param_grid_xgb5, cv=5)\n",
    "grid_search_xgb5.fit(oversampled_trainX5, oversampled_trainY5)\n",
    "\n",
    "bp_xgb5 = grid_search_xgb5.best_params_\n",
    "model_xgb5 = xgb.XGBRegressor(\n",
    "                    min_child_weight= bp_xgb5['min_child_weight'],\n",
    "                    gamma= bp_xgb5['gamma'],\n",
    "                    subsample= bp_xgb5['subsample'],\n",
    "                    colsample_bytree=  bp_xgb5['colsample_bytree'],\n",
    "                    max_depth= bp_xgb5['max_depth'])\n",
    "\n",
    "model_xgb5.fit(oversampled_trainX5, oversampled_trainY5)\n",
    "\n",
    "preds_xgb5 = model_xgb5.predict(X_test5)"
   ]
  },
  {
   "cell_type": "code",
   "execution_count": 165,
   "metadata": {},
   "outputs": [
    {
     "name": "stdout",
     "output_type": "stream",
     "text": [
      "          Model     Score       MAE       MSE    Recall\n",
      "0           Knn  0.996600  0.003400  0.003400  0.631148\n",
      "1  RandomForest  0.971483  0.028517  0.028517  0.918033\n",
      "2           XGB  0.999061  0.011726  0.001635  0.954918\n"
     ]
    }
   ],
   "source": [
    "ac_knn5 = accuracy_score(y_test5, preds_knn5)\n",
    "ac_rf5 = accuracy_score(y_test5, preds_rf5)\n",
    "ac_xgb5 = accuracy_score(y_test5, preds_xgb5.round())\n",
    "\n",
    "mae_knn5 = mean_absolute_error(y_test5, preds_knn5)\n",
    "mae_rf5 = mean_absolute_error(y_test5, preds_rf5)\n",
    "mae_xgb5 = mean_absolute_error(y_test5, preds_xgb5)\n",
    "                              \n",
    "mse_knn5 = mean_squared_error(y_test5, preds_knn5)  \n",
    "mse_rf5 = mean_squared_error(y_test5, preds_rf5)\n",
    "mse_xgb5 = mean_squared_error(y_test5, preds_xgb5)\n",
    "\n",
    "recall_knn5 = recall_score(y_test5,preds_knn5)\n",
    "recall_rf5 = recall_score(y_test5,preds_rf5)\n",
    "recall_xgb5 = recall_score(y_test5,preds_xgb5.round())\n",
    "# recall_xgb5 = 0\n",
    "\n",
    "\n",
    "compare_models5 = pd.DataFrame(\n",
    "    {  'Model' : ['Knn', 'RandomForest','XGB'],\n",
    "       'Score' : [ac_knn5,ac_rf5,ac_xgb5],\n",
    "        'MAE'  : [mae_knn5,mae_rf5,mae_xgb5],\n",
    "        'MSE'  : [mse_knn5,mse_rf5,mse_xgb5],\n",
    "        'Recall': [recall_knn5,recall_rf5,recall_xgb5]\n",
    "    })\n",
    "  \n",
    "print(compare_models5)"
   ]
  },
  {
   "cell_type": "markdown",
   "metadata": {},
   "source": [
    "# Escenario 6 <a name='escenario6'/>"
   ]
  },
  {
   "cell_type": "code",
   "execution_count": 53,
   "metadata": {},
   "outputs": [
    {
     "name": "stdout",
     "output_type": "stream",
     "text": [
      "<class 'pandas.core.frame.DataFrame'>\n",
      "Int64Index: 368220 entries, 0 to 368219\n",
      "Data columns (total 10 columns):\n",
      " #   Column          Non-Null Count   Dtype   \n",
      "---  ------          --------------   -----   \n",
      " 0   CANAL_REGISTRO  368220 non-null  category\n",
      " 1   IND_CLIENTE     368220 non-null  int64   \n",
      " 2   TIPOUSUARIO     368220 non-null  category\n",
      " 3   TIPOEMAIL       368220 non-null  category\n",
      " 4   BONDAD_EMAIL    368220 non-null  category\n",
      " 5   IPCASOS         368220 non-null  int64   \n",
      " 6   IP_Country      368220 non-null  category\n",
      " 7   PROMOPROD       368220 non-null  int64   \n",
      " 8   FICHASCONSUM    368220 non-null  int64   \n",
      " 9   DIASCONSUM      368220 non-null  int64   \n",
      "dtypes: category(5), int64(5)\n",
      "memory usage: 18.6 MB\n"
     ]
    }
   ],
   "source": [
    "df_user = data_user[['IDUSUARIO','CANAL_REGISTRO', 'TIPOUSUARIO','IND_CLIENTE','TIPOEMAIL'\n",
    "                     ,'BONDAD_EMAIL','IPCASOS','IP_Country','USU_TIPO','USU_TAMANIO','USU_CIIU']]\n",
    "\n",
    "df_user['USU_CIIU'] = df_user['USU_CIIU'].str[0:1]\n",
    "\n",
    "df_user['CANAL_REGISTRO'] = df_user['CANAL_REGISTRO'].astype('category')\n",
    "\n",
    "df_user['BONDAD_EMAIL'] = df_user['BONDAD_EMAIL'].astype('category')\n",
    "\n",
    "df_user['IP_Country'] = df_user['IP_Country'].astype('category')\n",
    "df_user['IP_Country'] = df_user['IP_Country'].cat.codes\n",
    "df_user['IP_Country'] = df_user['IP_Country'].astype('category')\n",
    "\n",
    "df_user['TIPOEMAIL'] = df_user['TIPOEMAIL'].astype('category')\n",
    "df_user['TIPOEMAIL'] = df_user['TIPOEMAIL'].cat.codes\n",
    "df_user['TIPOEMAIL'] = df_user['TIPOEMAIL'].astype('category')\n",
    "\n",
    "df_user['USU_TIPO'] = df_user['USU_TIPO'].astype('category')\n",
    "df_user['USU_TIPO'] = df_user['USU_TIPO'].cat.codes\n",
    "df_user['USU_TIPO'] = df_user['USU_TIPO'].astype('category')\n",
    "\n",
    "df_user['USU_TAMANIO'] = df_user['USU_TAMANIO'].astype('category')\n",
    "df_user['USU_TAMANIO'] = df_user['USU_TAMANIO'].cat.codes\n",
    "df_user['USU_TAMANIO'] = df_user['USU_TAMANIO'].astype('category')\n",
    "\n",
    "df_user['USU_CIIU'] = df_user['USU_CIIU'].astype('category')\n",
    "df_user['USU_CIIU'] = df_user['USU_CIIU'].cat.codes\n",
    "df_user['USU_CIIU'] = df_user['USU_CIIU'].astype('category')\n",
    "\n",
    "df_user['TIPOUSUARIO'] = df_user['TIPOUSUARIO'].astype('category')\n",
    "df_user['TIPOUSUARIO'] = df_user['TIPOUSUARIO'].cat.codes\n",
    "df_user['TIPOUSUARIO'] = df_user['TIPOUSUARIO'].astype('category')\n",
    "\n",
    "df_user = df_user.apply(lambda x: x.fillna(x.value_counts().index[0]))\n",
    "\n",
    "df_consum = data_consum[['IDUSUARIO', 'IDGRUPOPROD']]\n",
    "df_consum['IDGRUPOPROD'] = np.where(df_consum['IDGRUPOPROD'] == 144917, 'promo'\n",
    "                        , np.where(df_consum['IDGRUPOPROD'] == 144920, 'promo'\n",
    "                              , 'pago'))\n",
    "\n",
    "df_promoprod  = pd.DataFrame(df_consum.groupby(by=['IDUSUARIO','IDGRUPOPROD'],as_index=False)['IDUSUARIO'].size())\n",
    "df_promoprod = df_promoprod[df_promoprod['IDGRUPOPROD'] == 'promo']\n",
    "df_promoprod = df_promoprod.rename(columns={'size':'PROMOPROD'})\n",
    "\n",
    "df_user = pd.merge(df_user,df_promoprod,how = 'left',on = 'IDUSUARIO' )\n",
    "\n",
    "df_consum = data_consum[['IDUSUARIO','FECHACONSUMO']]\n",
    "\n",
    "df_fichas = df_consum.groupby(by=['IDUSUARIO'],as_index=False)['IDUSUARIO'].size()\n",
    "df_fichas = df_fichas.rename(columns={'size':'FICHASCONSUM'})\n",
    "\n",
    "df_user = pd.merge(df_user,df_fichas[['IDUSUARIO','FICHASCONSUM']], how='left', on='IDUSUARIO')\n",
    "\n",
    "df_dias = df_consum.groupby(by=['IDUSUARIO','FECHACONSUMO'],as_index=False)['IDUSUARIO'].size()\n",
    "df_dias = df_dias.groupby(by=['IDUSUARIO'],as_index=False)['IDUSUARIO'].size()\n",
    "df_dias = df_dias.rename(columns={'size':'DIASCONSUM'})\n",
    "df_user = pd.merge(df_user,df_dias[['IDUSUARIO','DIASCONSUM']], how='left', on = 'IDUSUARIO')\n",
    "\n",
    "df_user['PROMOPROD'] = df_user['PROMOPROD'].fillna(0)\n",
    "df_user['FICHASCONSUM'] = df_user['FICHASCONSUM'].fillna(0)\n",
    "df_user['DIASCONSUM'] = df_user['DIASCONSUM'].fillna(0)\n",
    "\n",
    "df_user['PROMOPROD'] = df_user['PROMOPROD'].astype('int64')\n",
    "df_user['FICHASCONSUM'] = df_user['FICHASCONSUM'].astype('int64')\n",
    "df_user['DIASCONSUM'] = df_user['DIASCONSUM'].astype('int64')\n",
    "\n",
    "# df_user = df_user[df_user['TIPOUSUARIO'] != 'PF']\n",
    "\n",
    "df_user = df_user[['CANAL_REGISTRO','IND_CLIENTE','TIPOUSUARIO','TIPOEMAIL','BONDAD_EMAIL','IPCASOS','IP_Country'\n",
    "                   ,'PROMOPROD','FICHASCONSUM','DIASCONSUM']]\n",
    "\n",
    "df_user.info()"
   ]
  },
  {
   "cell_type": "code",
   "execution_count": 54,
   "metadata": {},
   "outputs": [],
   "source": [
    "X6 = df_user.iloc[:,[0,2,3,6,5,6,7,8,9]]\n",
    "Y6 = df_user.iloc[:,[1]] \n",
    "\n",
    "X6 = StandardScaler().fit_transform(X6)\n",
    " \n",
    "# Separamos los datos en train y test\n",
    "\n",
    "X_train6, X_test6, y_train6, y_test6 = train_test_split(X6, Y6, test_size=0.2)\n",
    "\n",
    "# print('Disponemos de {} datos para entrenamiento y {} datos para prueba'.format(X_train.shape[0], X_test.shape[0]))\n",
    "\n",
    "sm6 = SMOTE(sampling_strategy='minority', random_state=7)\n",
    "\n",
    "oversampled_trainX6, oversampled_trainY6 = sm6.fit_sample(X_train6,  y_train6)\n",
    "oversampled_train6 = pd.concat([pd.DataFrame(oversampled_trainY6), pd.DataFrame(oversampled_trainX6)], axis=1)\n",
    "\n",
    "param_grid_knn6 = {\"n_neighbors\": range(1, 11), \"weights\": [\"uniform\", \"distance\"]}\n",
    "\n",
    "grid_search_knn6 = GridSearchCV(KNeighborsClassifier(), param_grid=param_grid_knn6, cv=6)\n",
    "\n",
    "grid_search_knn6.fit(oversampled_trainX6, oversampled_trainY6)\n",
    "\n",
    "bp_knn6 = grid_search_knn6.best_params_\n",
    "model_knn6 = KNeighborsClassifier(n_neighbors=bp_knn6['n_neighbors'], weights=bp_knn6['weights'])\n",
    "model_knn6.fit(oversampled_trainX6, oversampled_trainY6)\n",
    "\n",
    "preds_knn6 = model_knn6.predict(X_test6)\n",
    "\n",
    "param_grid_rf6 = {\"max_depth\": range(6, 16), \"n_estimators\": [10, 50, 100, 200]}\n",
    "\n",
    "grid_search_rf6 = GridSearchCV(RandomForestClassifier(), param_grid=param_grid_rf6, cv=6)\n",
    "grid_search_rf6.fit(oversampled_trainX6, oversampled_trainY6)\n",
    "\n",
    "bp_rf6 = grid_search_rf6.best_params_\n",
    "model_rf6 = RandomForestClassifier(max_depth=bp_rf6['max_depth'], n_estimators=bp_rf6['n_estimators'])\n",
    "model_rf6.fit(oversampled_trainX6, oversampled_trainY6)\n",
    "\n",
    "preds_rf6 = model_rf6.predict(X_test6)\n",
    "\n",
    "param_grid_xgb6 = {\n",
    "                    'min_child_weight': [1, 5, 10],\n",
    "                    'gamma': [0.5, 1, 1.5, 2, 5],\n",
    "                    'subsample': [0.6, 0.8, 1.0],\n",
    "                    'colsample_bytree': [0.6, 0.8, 1.0],\n",
    "                    'max_depth': [6, 6, 5]\n",
    "                    }\n",
    "\n",
    "grid_search_xgb6 = GridSearchCV(xgb.XGBRegressor(), param_grid=param_grid_xgb6, cv=6)\n",
    "grid_search_xgb6.fit(oversampled_trainX6, oversampled_trainY6)\n",
    "\n",
    "bp_xgb6 = grid_search_xgb6.best_params_\n",
    "model_xgb6 = xgb.XGBRegressor(\n",
    "                    min_child_weight= bp_xgb6['min_child_weight'],\n",
    "                    gamma= bp_xgb6['gamma'],\n",
    "                    subsample= bp_xgb6['subsample'],\n",
    "                    colsample_bytree=  bp_xgb6['colsample_bytree'],\n",
    "                    max_depth= bp_xgb6['max_depth'])\n",
    "\n",
    "model_xgb6.fit(oversampled_trainX6, oversampled_trainY6)\n",
    "\n",
    "preds_xgb6 = model_xgb6.predict(X_test6)"
   ]
  },
  {
   "cell_type": "code",
   "execution_count": 166,
   "metadata": {},
   "outputs": [
    {
     "name": "stdout",
     "output_type": "stream",
     "text": [
      "          Model     Score       MAE       MSE    Recall\n",
      "0           Knn  0.995017  0.004983  0.004983  0.718391\n",
      "1  RandomForest  0.986598  0.013402  0.013402  0.965517\n",
      "2           XGB  0.998778  0.008435  0.001526  0.955939\n"
     ]
    }
   ],
   "source": [
    "ac_knn6 = accuracy_score(y_test6, preds_knn6)\n",
    "ac_rf6 = accuracy_score(y_test6, preds_rf6)\n",
    "ac_xgb6 = accuracy_score(y_test6, preds_xgb6.round())\n",
    "\n",
    "mae_knn6 = mean_absolute_error(y_test6, preds_knn6)\n",
    "mae_rf6 = mean_absolute_error(y_test6, preds_rf6)\n",
    "mae_xgb6 = mean_absolute_error(y_test6, preds_xgb6)\n",
    "                              \n",
    "mse_knn6 = mean_squared_error(y_test6, preds_knn6)  \n",
    "mse_rf6 = mean_squared_error(y_test6, preds_rf6)\n",
    "mse_xgb6 = mean_squared_error(y_test6, preds_xgb6)\n",
    "\n",
    "recall_knn6 = recall_score(y_test6,preds_knn6)\n",
    "recall_rf6 = recall_score(y_test6,preds_rf6)\n",
    "recall_xgb6 = recall_score(y_test6,preds_xgb6.round())\n",
    "# recall_xgb6 = 0\n",
    "\n",
    "\n",
    "compare_models6 = pd.DataFrame(\n",
    "    {  'Model' : ['Knn', 'RandomForest','XGB'],\n",
    "       'Score' : [ac_knn6,ac_rf6,ac_xgb6],\n",
    "        'MAE'  : [mae_knn6,mae_rf6,mae_xgb6],\n",
    "        'MSE'  : [mse_knn6,mse_rf6,mse_xgb6],\n",
    "        'Recall': [recall_knn6,recall_rf6,recall_xgb6]\n",
    "    })\n",
    "  \n",
    "print(compare_models6)"
   ]
  },
  {
   "cell_type": "markdown",
   "metadata": {},
   "source": [
    "# Confusion Matrix - Escenario 1 <a name = 'cm_1' />"
   ]
  },
  {
   "cell_type": "code",
   "execution_count": 131,
   "metadata": {},
   "outputs": [
    {
     "data": {
      "image/png": "[encoded data removed]",
      "text/plain": [
       "<Figure size 1080x360 with 6 Axes>"
      ]
     },
     "metadata": {
      "needs_background": "light"
     },
     "output_type": "display_data"
    }
   ],
   "source": [
    "cm_knn = confusion_matrix(y_test,preds_knn)\n",
    "cm_rf = confusion_matrix(y_test,preds_rf)\n",
    "cm_xgb = confusion_matrix(y_test,preds_xgb.round())\n",
    "\n",
    "fig, ax = plt.subplots(ncols = 3, figsize=(15,5))\n",
    "fig.subplots_adjust(wspace=1)\n",
    "fig.suptitle('Confusion Matrix - Escenario 1')\n",
    "\n",
    "sns.heatmap(cm_knn/np.sum(cm_knn),ax = ax[0], cmap ='cubehelix', annot = True,fmt='.2%')\n",
    "sns.heatmap(cm_rf/np.sum(cm_rf),ax = ax[1], cmap ='cubehelix', annot = True,fmt='.2%')\n",
    "sns.heatmap(cm_xgb/np.sum(cm_xgb),ax = ax[2], cmap ='cubehelix', annot = True,fmt='.2%')\n",
    "\n",
    "ax[0].set_title('Knn')\n",
    "ax[1].set_title('Random Forest')\n",
    "ax[2].set_title('XGBoost')\n",
    "\n",
    "for i in range(3):\n",
    "    ax[i].set(xlabel='Predicted', ylabel='Actual')\n",
    "\n",
    "plt.show()"
   ]
  },
  {
   "cell_type": "markdown",
   "metadata": {},
   "source": [
    "# Confusion Matrix - Escenario 2 <a name = 'cm_2' />"
   ]
  },
  {
   "cell_type": "code",
   "execution_count": 133,
   "metadata": {},
   "outputs": [
    {
     "data": {
      "image/png": "[encoded data removed]",
      "text/plain": [
       "<Figure size 1080x360 with 6 Axes>"
      ]
     },
     "metadata": {
      "needs_background": "light"
     },
     "output_type": "display_data"
    }
   ],
   "source": [
    "cm_Knn2 = confusion_matrix(y_test2,preds_knn2)\n",
    "cm_rf2 = confusion_matrix(y_test2,preds_rf2)\n",
    "cm_xgb2 = confusion_matrix(y_test2,preds_xgb2.round())\n",
    "\n",
    "fig, ax = plt.subplots(ncols = 3, figsize=(15,5))\n",
    "fig.subplots_adjust(wspace=1)\n",
    "fig.suptitle('Confusion Matrix - Escenario 2')\n",
    "\n",
    "sns.heatmap(cm_Knn2/np.sum(cm_Knn2),ax = ax[0], cmap ='cubehelix', annot = True,fmt='.2%')\n",
    "sns.heatmap(cm_rf2/np.sum(cm_rf2),ax = ax[1], cmap ='cubehelix', annot = True,fmt='.2%')\n",
    "sns.heatmap(cm_xgb2/np.sum(cm_xgb2),ax = ax[2], cmap ='cubehelix', annot = True,fmt='.2%')\n",
    "\n",
    "ax[0].set_title('Knn')\n",
    "ax[1].set_title('Random Forest')\n",
    "ax[2].set_title('XGBoost')\n",
    "\n",
    "for i in range(3):\n",
    "    ax[i].set(xlabel='Predicted', ylabel='Actual')\n",
    "\n",
    "plt.show()"
   ]
  },
  {
   "cell_type": "markdown",
   "metadata": {},
   "source": [
    "# Confusion Matrix - Escenario 3 <a name = 'cm_3' />"
   ]
  },
  {
   "cell_type": "code",
   "execution_count": 164,
   "metadata": {},
   "outputs": [
    {
     "data": {
      "image/png": "[encoded data removed]",
      "text/plain": [
       "<Figure size 1080x360 with 6 Axes>"
      ]
     },
     "metadata": {
      "needs_background": "light"
     },
     "output_type": "display_data"
    }
   ],
   "source": [
    "cm_Knn3 = confusion_matrix(y_test3,preds_knn3)\n",
    "cm_rf3 = confusion_matrix(y_test3,preds_rf3)\n",
    "cm_xgb3 = confusion_matrix(y_test2,preds_xgb2.round())\n",
    "\n",
    "fig, ax = plt.subplots(ncols = 3, figsize=(15,5))\n",
    "fig.subplots_adjust(wspace=1)\n",
    "fig.suptitle('Confusion Matrix - Escenario 3')\n",
    "\n",
    "sns.heatmap(cm_Knn3/np.sum(cm_Knn3),ax = ax[0], cmap ='cubehelix', annot = True,fmt='.2%')\n",
    "sns.heatmap(cm_rf3/np.sum(cm_rf3),ax = ax[1], cmap ='cubehelix', annot = True,fmt='.2%')\n",
    "sns.heatmap(cm_xgb3/np.sum(cm_xgb3),ax = ax[2], cmap ='cubehelix', annot = True,fmt='.2%')\n",
    "\n",
    "ax[0].set_title('Knn')\n",
    "ax[1].set_title('Random Forest')\n",
    "ax[2].set_title('XGBoost')\n",
    "\n",
    "for i in range(3):\n",
    "    ax[i].set(xlabel='Predicted', ylabel='Actual')\n",
    "\n",
    "plt.show()"
   ]
  },
  {
   "cell_type": "markdown",
   "metadata": {},
   "source": [
    "# Confusion Matrix - Escenario 4 <a name = 'cm_4' />"
   ]
  },
  {
   "cell_type": "code",
   "execution_count": 150,
   "metadata": {},
   "outputs": [
    {
     "data": {
      "image/png": "[encoded data removed]",
      "text/plain": [
       "<Figure size 1080x360 with 6 Axes>"
      ]
     },
     "metadata": {
      "needs_background": "light"
     },
     "output_type": "display_data"
    }
   ],
   "source": [
    "cm_Knn4 = confusion_matrix(y_test4,preds_knn4)\n",
    "cm_rf4 = confusion_matrix(y_test4,preds_rf4)\n",
    "cm_xgb4 = confusion_matrix(y_test4,preds_xgb4.round())\n",
    "\n",
    "fig, ax = plt.subplots(ncols = 3, figsize=(15,5))\n",
    "fig.subplots_adjust(wspace=1)\n",
    "fig.suptitle('Confusion Matrix - Escenario 4')\n",
    "\n",
    "sns.heatmap(cm_Knn4/np.sum(cm_Knn4),ax = ax[0], cmap ='cubehelix', annot = True,fmt='.2%')\n",
    "sns.heatmap(cm_rf4/np.sum(cm_rf4),ax = ax[1], cmap ='cubehelix', annot = True,fmt='.2%')\n",
    "sns.heatmap(cm_xgb4/np.sum(cm_xgb4),ax = ax[2], cmap ='cubehelix', annot = True,fmt='.2%')\n",
    "\n",
    "ax[0].set_title('Knn')\n",
    "ax[1].set_title('Random Forest')\n",
    "ax[2].set_title('XGBoost')\n",
    "\n",
    "for i in range(3):\n",
    "    ax[i].set(xlabel='Predicted', ylabel='Actual')\n",
    "\n",
    "plt.show()"
   ]
  },
  {
   "cell_type": "markdown",
   "metadata": {},
   "source": [
    "# Confusion Matrix - Escenario 5 <a name = 'cm_5' />"
   ]
  },
  {
   "cell_type": "code",
   "execution_count": 167,
   "metadata": {},
   "outputs": [
    {
     "data": {
      "image/png": "[encoded data removed]",
      "text/plain": [
       "<Figure size 1080x360 with 6 Axes>"
      ]
     },
     "metadata": {
      "needs_background": "light"
     },
     "output_type": "display_data"
    }
   ],
   "source": [
    "cm_Knn5 = confusion_matrix(y_test5,preds_knn5)\n",
    "cm_rf5 = confusion_matrix(y_test5,preds_rf5)\n",
    "cm_xgb5 = confusion_matrix(y_test5,preds_xgb5.round())\n",
    "\n",
    "fig, ax = plt.subplots(ncols = 3, figsize=(15,5))\n",
    "fig.subplots_adjust(wspace=1)\n",
    "fig.suptitle('Confusion Matrix - Escenario 5')\n",
    "\n",
    "sns.heatmap(cm_Knn5/np.sum(cm_Knn5),ax = ax[0], cmap ='cubehelix', annot = True,fmt='.2%')\n",
    "sns.heatmap(cm_rf5/np.sum(cm_rf5),ax = ax[1], cmap ='cubehelix', annot = True,fmt='.2%')\n",
    "sns.heatmap(cm_xgb5/np.sum(cm_xgb5),ax = ax[2], cmap ='cubehelix', annot = True,fmt='.2%')\n",
    "\n",
    "ax[0].set_title('Knn')\n",
    "ax[1].set_title('Random Forest')\n",
    "ax[2].set_title('XGBoost')\n",
    "\n",
    "for i in range(3):\n",
    "    ax[i].set(xlabel='Predicted', ylabel='Actual')\n",
    "\n",
    "plt.show()"
   ]
  },
  {
   "cell_type": "markdown",
   "metadata": {},
   "source": [
    "# Confusion Matrix - Escenario 6 <a name = 'cm_6' />"
   ]
  },
  {
   "cell_type": "code",
   "execution_count": 168,
   "metadata": {},
   "outputs": [
    {
     "data": {
      "image/png": "[encoded data removed]",
      "text/plain": [
       "<Figure size 1080x360 with 6 Axes>"
      ]
     },
     "metadata": {
      "needs_background": "light"
     },
     "output_type": "display_data"
    }
   ],
   "source": [
    "cm_Knn6 = confusion_matrix(y_test6,preds_knn6)\n",
    "cm_rf6 = confusion_matrix(y_test6,preds_rf6)\n",
    "cm_xgb6 = confusion_matrix(y_test6,preds_xgb6.round())\n",
    "\n",
    "fig, ax = plt.subplots(ncols = 3, figsize=(15,5))\n",
    "fig.subplots_adjust(wspace=1)\n",
    "fig.suptitle('Confusion Matrix - Escenario 6')\n",
    "\n",
    "sns.heatmap(cm_Knn6/np.sum(cm_Knn6),ax = ax[0], cmap ='cubehelix', annot = True,fmt='.2%')\n",
    "sns.heatmap(cm_rf6/np.sum(cm_rf6),ax = ax[1], cmap ='cubehelix', annot = True,fmt='.2%')\n",
    "sns.heatmap(cm_xgb6/np.sum(cm_xgb6),ax = ax[2], cmap ='cubehelix', annot = True,fmt='.2%')\n",
    "\n",
    "ax[0].set_title('Knn')\n",
    "ax[1].set_title('Random Forest')\n",
    "ax[2].set_title('XGBoost')\n",
    "\n",
    "for i in range(3):\n",
    "    ax[i].set(xlabel='Predicted', ylabel='Actual')\n",
    "\n",
    "plt.show()"
   ]
  }
 ],
 "metadata": {
  "kernelspec": {
   "display_name": "Python 3",
   "language": "python",
   "name": "python3"
  },
  "language_info": {
   "codemirror_mode": {
    "name": "ipython",
    "version": 3
   },
   "file_extension": ".py",
   "mimetype": "text/x-python",
   "name": "python",
   "nbconvert_exporter": "python",
   "pygments_lexer": "ipython3",
   "version": "3.8.5"
  }
 },
 "nbformat": 4,
 "nbformat_minor": 4
}
